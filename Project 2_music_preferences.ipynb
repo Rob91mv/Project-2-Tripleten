{
 "cells": [
  {
   "cell_type": "markdown",
   "metadata": {
    "id": "E0vqbgi9ay0H"
   },
   "source": [
    "# Music preferences in cities of Springfield and Shelbyville. "
   ]
  },
  {
   "cell_type": "markdown",
   "metadata": {
    "id": "fhq_eyov_Zcs"
   },
   "source": [
    "# Content <a id='back'></a>\n",
    "\n",
    "* [Introduction](#intro)\n",
    "* [Phase 1. Data Description](#data_review)\n",
    "    * [Conclusions](#data_review_conclusions)\n",
    "* [Phase 2. Data pre-processing](#data_preprocessing)\n",
    "    * [2.1 Header style](#header_style)\n",
    "    * [2.2 Missing Values](#missing_values)\n",
    "    * [2.3 Duplicates](#duplicates)\n",
    "    * [2.4 Conclusions](#data_preprocessing_conclusions)\n",
    "* [Phase 3. Hypotheses Test](#hypotheses)\n",
    "    * [3.1 Method 1. Statistical Method](#stat)\n",
    "        * [3.1.1 Hypotheses 1: Users' activity in the two cities](#activity1)\n",
    "        * [3.1.2 Hipotheses 2: Music preferences on Mondays and Fridays](#week1)\n",
    "        * [3.3 Hypotheses 3: Gender preferences in Springfield and Shelbyville](#genre1)\n",
    "    * [3.2 Method 2. Simple Hyphotesis](#stat2)\n",
    "        * [3.2.1 Hypotheses 1: Users' activity in the two cities](#activity)\n",
    "        * [3.2.2 Hipotheses 2: Music preferences on Mondays and Fridays](#week)\n",
    "        * [3.2.3 Hypotheses 3: Gender preferences in Springfield and Shelbyville](#genre)\n",
    "* [Conclusions](#end)"
   ]
  },
  {
   "cell_type": "markdown",
   "metadata": {
    "id": "VUC88oWjTJw2"
   },
   "source": [
    "## Introduction <a id='intro'></a>\n",
    "\n",
    "This project is focused on analysing data to extract valuable information and make decisions based on it. This involves different stages, such as data overview, preprocessing and hypothesis testing.\n",
    "\n",
    "Whenever we do research, we need to formulate hypotheses that we can then test. Sometimes we accept these hypotheses; sometimes we reject them. To make the right decisions, a company must be able to understand whether it is making the right assumptions.\n",
    "\n",
    "In this project, it will be compared the music preferences of the cities of Springfield and Shelbyville. You will study real online music streaming data to test the hypotheses below and compare the behaviour of male and female users in these two cities.\n",
    "\n",
    "### Objetive:\n",
    "It tests three hypotheses:\n",
    "1. Users' activity differs by day of the week and by city.\n",
    "2. On Monday mornings, people in Springfield and Shelbyville listen to different genres. The same is true on Friday nights.\n",
    "3. Listeners in Springfield and Shelbyville have different preferences. In Springfield they prefer pop music, while in Shelbyville more people like rap music.\n",
    "\n",
    "### Phases\n",
    "The user behaviour data is stored in the file `/datasets/music_project_en.csv`. There is no information about the quality of the data, so it will need to examine it before testing hypotheses.\n",
    "\n",
    "First, it will assess the quality of the data and see if the problems are significant. Then, during data pre-processing, it will consider the most critical problems.\n",
    "\n",
    "This project will consist of three stages:\n",
    " 1. Description of the data\n",
    " 2. Data pre-processing\n",
    " 3. Hypothesis testing\n",
    "\n",
    "\n",
    "### Challenge\n",
    "\n",
    "In this project, the type of data structure will be included: timestamps, which are very common and deserve additional attention. We need timestamps in this project to test one of our hypotheses.\n",
    "\n",
    "For example, let's say we have two timestamps: `dt1 = ‘12:00:00:00’` and `dt2 = ‘06:00:00:00’`. We want to compare these two timestamps and see which one is later.\n",
    "\n",
    "We can compare them using the standard comparison operators (`<`, `>`, `<=`, `>=`, `==`, `!=`).\n"
   ]
  },
  {
   "cell_type": "markdown",
   "metadata": {
    "colab": {
     "base_uri": "https://localhost:8080/"
    },
    "id": "yD0ew2OJw68d",
    "outputId": "5f8c119b-9d62-439f-d7de-b2cd0927bef8"
   },
   "source": [
    "# Datetime object Comparison\n",
    "\n",
    "dt1 = \"12:00:00\"\n",
    "dt2 = \"06:00:00\"\n",
    "\n",
    "if dt1 < dt2:\n",
    "    print(\"Time stamp 2 is later\")\n",
    "else:\n",
    "    print(\"Time stamp 1 is later\")"
   ]
  },
  {
   "cell_type": "markdown",
   "metadata": {
    "id": "hDt6pg-Rw-1U"
   },
   "source": [
    "[Back to the content](#back)"
   ]
  },
  {
   "cell_type": "markdown",
   "metadata": {
    "id": "Ml1hmfXC_Zcs"
   },
   "source": [
    "## Phase 1. Data Description <a id='data_review'></a>\n",
    "\n",
    "The Y.Music data are opened and examined."
   ]
  },
  {
   "cell_type": "code",
   "execution_count": 10,
   "metadata": {
    "id": "AXN7PHPN_Zcs"
   },
   "outputs": [],
   "source": [
    "# import pandas\n",
    "import pandas \n",
    "import pandas as pd"
   ]
  },
  {
   "cell_type": "markdown",
   "metadata": {
    "id": "SG23P8tt_Zcs"
   },
   "source": [
    "\n",
    "The `music_project_en.csv` file in the `/datasets/` folder is read and stored in the `df` variable:"
   ]
  },
  {
   "cell_type": "code",
   "execution_count": 11,
   "metadata": {
    "id": "fFVu7vqh_Zct"
   },
   "outputs": [
    {
     "data": {
      "text/html": [
       "<div>\n",
       "<style scoped>\n",
       "    .dataframe tbody tr th:only-of-type {\n",
       "        vertical-align: middle;\n",
       "    }\n",
       "\n",
       "    .dataframe tbody tr th {\n",
       "        vertical-align: top;\n",
       "    }\n",
       "\n",
       "    .dataframe thead th {\n",
       "        text-align: right;\n",
       "    }\n",
       "</style>\n",
       "<table border=\"1\" class=\"dataframe\">\n",
       "  <thead>\n",
       "    <tr style=\"text-align: right;\">\n",
       "      <th></th>\n",
       "      <th>userID</th>\n",
       "      <th>Track</th>\n",
       "      <th>artist</th>\n",
       "      <th>genre</th>\n",
       "      <th>City</th>\n",
       "      <th>time</th>\n",
       "      <th>Day</th>\n",
       "    </tr>\n",
       "  </thead>\n",
       "  <tbody>\n",
       "    <tr>\n",
       "      <th>count</th>\n",
       "      <td>65079</td>\n",
       "      <td>63736</td>\n",
       "      <td>57512</td>\n",
       "      <td>63881</td>\n",
       "      <td>65079</td>\n",
       "      <td>65079</td>\n",
       "      <td>65079</td>\n",
       "    </tr>\n",
       "    <tr>\n",
       "      <th>unique</th>\n",
       "      <td>41748</td>\n",
       "      <td>39666</td>\n",
       "      <td>37806</td>\n",
       "      <td>268</td>\n",
       "      <td>2</td>\n",
       "      <td>20392</td>\n",
       "      <td>3</td>\n",
       "    </tr>\n",
       "    <tr>\n",
       "      <th>top</th>\n",
       "      <td>A8AE9169</td>\n",
       "      <td>Brand</td>\n",
       "      <td>Kartvelli</td>\n",
       "      <td>pop</td>\n",
       "      <td>Springfield</td>\n",
       "      <td>08:14:07</td>\n",
       "      <td>Friday</td>\n",
       "    </tr>\n",
       "    <tr>\n",
       "      <th>freq</th>\n",
       "      <td>76</td>\n",
       "      <td>136</td>\n",
       "      <td>136</td>\n",
       "      <td>8850</td>\n",
       "      <td>45360</td>\n",
       "      <td>14</td>\n",
       "      <td>23149</td>\n",
       "    </tr>\n",
       "  </tbody>\n",
       "</table>\n",
       "</div>"
      ],
      "text/plain": [
       "          userID  Track     artist  genre       City        time     Day\n",
       "count      65079  63736      57512  63881        65079     65079   65079\n",
       "unique     41748  39666      37806    268            2     20392       3\n",
       "top     A8AE9169  Brand  Kartvelli    pop  Springfield  08:14:07  Friday\n",
       "freq          76    136        136   8850        45360        14   23149"
      ]
     },
     "execution_count": 11,
     "metadata": {},
     "output_type": "execute_result"
    }
   ],
   "source": [
    "# Read the file and store it in df\n",
    "try:\n",
    "    df = pandas.read_csv('music_project_en.csv')\n",
    "except:\n",
    "    df = pandas.read_csv('/datasets/music_project_en.csv')\n",
    "\n",
    "df.describe()"
   ]
  },
  {
   "cell_type": "code",
   "execution_count": 12,
   "metadata": {
    "id": "oWTVX3gW_Zct"
   },
   "outputs": [
    {
     "data": {
      "text/html": [
       "<div>\n",
       "<style scoped>\n",
       "    .dataframe tbody tr th:only-of-type {\n",
       "        vertical-align: middle;\n",
       "    }\n",
       "\n",
       "    .dataframe tbody tr th {\n",
       "        vertical-align: top;\n",
       "    }\n",
       "\n",
       "    .dataframe thead th {\n",
       "        text-align: right;\n",
       "    }\n",
       "</style>\n",
       "<table border=\"1\" class=\"dataframe\">\n",
       "  <thead>\n",
       "    <tr style=\"text-align: right;\">\n",
       "      <th></th>\n",
       "      <th>userID</th>\n",
       "      <th>Track</th>\n",
       "      <th>artist</th>\n",
       "      <th>genre</th>\n",
       "      <th>City</th>\n",
       "      <th>time</th>\n",
       "      <th>Day</th>\n",
       "    </tr>\n",
       "  </thead>\n",
       "  <tbody>\n",
       "    <tr>\n",
       "      <th>0</th>\n",
       "      <td>FFB692EC</td>\n",
       "      <td>Kamigata To Boots</td>\n",
       "      <td>The Mass Missile</td>\n",
       "      <td>rock</td>\n",
       "      <td>Shelbyville</td>\n",
       "      <td>20:28:33</td>\n",
       "      <td>Wednesday</td>\n",
       "    </tr>\n",
       "    <tr>\n",
       "      <th>1</th>\n",
       "      <td>55204538</td>\n",
       "      <td>Delayed Because of Accident</td>\n",
       "      <td>Andreas Rönnberg</td>\n",
       "      <td>rock</td>\n",
       "      <td>Springfield</td>\n",
       "      <td>14:07:09</td>\n",
       "      <td>Friday</td>\n",
       "    </tr>\n",
       "    <tr>\n",
       "      <th>2</th>\n",
       "      <td>20EC38</td>\n",
       "      <td>Funiculì funiculà</td>\n",
       "      <td>Mario Lanza</td>\n",
       "      <td>pop</td>\n",
       "      <td>Shelbyville</td>\n",
       "      <td>20:58:07</td>\n",
       "      <td>Wednesday</td>\n",
       "    </tr>\n",
       "    <tr>\n",
       "      <th>3</th>\n",
       "      <td>A3DD03C9</td>\n",
       "      <td>Dragons in the Sunset</td>\n",
       "      <td>Fire + Ice</td>\n",
       "      <td>folk</td>\n",
       "      <td>Shelbyville</td>\n",
       "      <td>08:37:09</td>\n",
       "      <td>Monday</td>\n",
       "    </tr>\n",
       "    <tr>\n",
       "      <th>4</th>\n",
       "      <td>E2DC1FAE</td>\n",
       "      <td>Soul People</td>\n",
       "      <td>Space Echo</td>\n",
       "      <td>dance</td>\n",
       "      <td>Springfield</td>\n",
       "      <td>08:34:34</td>\n",
       "      <td>Monday</td>\n",
       "    </tr>\n",
       "    <tr>\n",
       "      <th>5</th>\n",
       "      <td>842029A1</td>\n",
       "      <td>Chains</td>\n",
       "      <td>Obladaet</td>\n",
       "      <td>rusrap</td>\n",
       "      <td>Shelbyville</td>\n",
       "      <td>13:09:41</td>\n",
       "      <td>Friday</td>\n",
       "    </tr>\n",
       "    <tr>\n",
       "      <th>6</th>\n",
       "      <td>4CB90AA5</td>\n",
       "      <td>True</td>\n",
       "      <td>Roman Messer</td>\n",
       "      <td>dance</td>\n",
       "      <td>Springfield</td>\n",
       "      <td>13:00:07</td>\n",
       "      <td>Wednesday</td>\n",
       "    </tr>\n",
       "    <tr>\n",
       "      <th>7</th>\n",
       "      <td>F03E1C1F</td>\n",
       "      <td>Feeling This Way</td>\n",
       "      <td>Polina Griffith</td>\n",
       "      <td>dance</td>\n",
       "      <td>Springfield</td>\n",
       "      <td>20:47:49</td>\n",
       "      <td>Wednesday</td>\n",
       "    </tr>\n",
       "    <tr>\n",
       "      <th>8</th>\n",
       "      <td>8FA1D3BE</td>\n",
       "      <td>L’estate</td>\n",
       "      <td>Julia Dalia</td>\n",
       "      <td>ruspop</td>\n",
       "      <td>Springfield</td>\n",
       "      <td>09:17:40</td>\n",
       "      <td>Friday</td>\n",
       "    </tr>\n",
       "    <tr>\n",
       "      <th>9</th>\n",
       "      <td>E772D5C0</td>\n",
       "      <td>Pessimist</td>\n",
       "      <td>NaN</td>\n",
       "      <td>dance</td>\n",
       "      <td>Shelbyville</td>\n",
       "      <td>21:20:49</td>\n",
       "      <td>Wednesday</td>\n",
       "    </tr>\n",
       "  </tbody>\n",
       "</table>\n",
       "</div>"
      ],
      "text/plain": [
       "     userID                        Track            artist   genre  \\\n",
       "0  FFB692EC            Kamigata To Boots  The Mass Missile    rock   \n",
       "1  55204538  Delayed Because of Accident  Andreas Rönnberg    rock   \n",
       "2    20EC38            Funiculì funiculà       Mario Lanza     pop   \n",
       "3  A3DD03C9        Dragons in the Sunset        Fire + Ice    folk   \n",
       "4  E2DC1FAE                  Soul People        Space Echo   dance   \n",
       "5  842029A1                       Chains          Obladaet  rusrap   \n",
       "6  4CB90AA5                         True      Roman Messer   dance   \n",
       "7  F03E1C1F             Feeling This Way   Polina Griffith   dance   \n",
       "8  8FA1D3BE                     L’estate       Julia Dalia  ruspop   \n",
       "9  E772D5C0                    Pessimist               NaN   dance   \n",
       "\n",
       "        City        time        Day  \n",
       "0  Shelbyville  20:28:33  Wednesday  \n",
       "1  Springfield  14:07:09     Friday  \n",
       "2  Shelbyville  20:58:07  Wednesday  \n",
       "3  Shelbyville  08:37:09     Monday  \n",
       "4  Springfield  08:34:34     Monday  \n",
       "5  Shelbyville  13:09:41     Friday  \n",
       "6  Springfield  13:00:07  Wednesday  \n",
       "7  Springfield  20:47:49  Wednesday  \n",
       "8  Springfield  09:17:40     Friday  \n",
       "9  Shelbyville  21:20:49  Wednesday  "
      ]
     },
     "execution_count": 12,
     "metadata": {},
     "output_type": "execute_result"
    }
   ],
   "source": [
    "# Extracting the first 10 rows of the table df.\n",
    "df.head(10)"
   ]
  },
  {
   "cell_type": "markdown",
   "metadata": {
    "id": "EO73Kwic_Zct"
   },
   "source": [
    "Obtén la información general sobre la tabla con un comando:"
   ]
  },
  {
   "cell_type": "code",
   "execution_count": 13,
   "metadata": {
    "id": "DSf2kIb-_Zct"
   },
   "outputs": [
    {
     "name": "stdout",
     "output_type": "stream",
     "text": [
      "<class 'pandas.core.frame.DataFrame'>\n",
      "RangeIndex: 65079 entries, 0 to 65078\n",
      "Data columns (total 7 columns):\n",
      " #   Column    Non-Null Count  Dtype \n",
      "---  ------    --------------  ----- \n",
      " 0     userID  65079 non-null  object\n",
      " 1   Track     63736 non-null  object\n",
      " 2   artist    57512 non-null  object\n",
      " 3   genre     63881 non-null  object\n",
      " 4     City    65079 non-null  object\n",
      " 5   time      65079 non-null  object\n",
      " 6   Day       65079 non-null  object\n",
      "dtypes: object(7)\n",
      "memory usage: 3.5+ MB\n"
     ]
    }
   ],
   "source": [
    "# Obtaining general information on data in df\n",
    "df.info()"
   ]
  },
  {
   "cell_type": "markdown",
   "metadata": {
    "id": "TaQ2Iwbr_Zct"
   },
   "source": [
    "These are our observations on the table. It contains seven columns. They all store the same data type: `object`.\n",
    "\n",
    "According to the documentation:\n",
    "- `“ userID”` - identifier of the user;\n",
    "- `“track”` - song title;\n",
    "- `“artist”` - artist name;\n",
    "- genre'` - genre of music;\n",
    "- city'` - user's city;\n",
    "- time'` - exact time the song was played;\n",
    "- Day'` - day of the week.\n",
    "\n",
    "We can see three problems with the styling in the table headings:\n",
    "1. some headings are in upper case; others are in lower case.\n",
    "2. There are spaces in some headings.\n",
    "3. 'Spot the third problem on your own and describe it here.\n",
    "\n"
   ]
  },
  {
   "cell_type": "markdown",
   "metadata": {
    "id": "MCB6-dXG_Zct"
   },
   "source": [
    "### Main Remarks / Phase 1 Analysis <a id='data_review_conclusions'></a>\n",
    "\n",
    "`1.  What kind of data do we have at our disposal in the rows, and how can we understand what the columns store?\n",
    "\n",
    "`2.  Is there enough data to provide answers to our three hypotheses or do we need more information?\n",
    "\n",
    "`3.  Did you notice any problems in the data, such as missing values, duplicates or incorrect data types?"
   ]
  },
  {
   "cell_type": "markdown",
   "metadata": {},
   "source": [
    "**Answer**: Each row of the table stores data for the track that was played. Some columns describe the track itself: its title, artist and genre. The rest conveys the user's information: the city it came from, the time the track was played.\n",
    "\n",
    "It is clear that the data is sufficient to test the hypothesis. However, there are missing values.\n",
    "\n",
    "To continue, we need to preprocess the data."
   ]
  },
  {
   "cell_type": "markdown",
   "metadata": {
    "id": "3eL__vcwViOi"
   },
   "source": [
    "[Back to Content](#back)"
   ]
  },
  {
   "cell_type": "markdown",
   "metadata": {
    "id": "SjYF6Ub9_Zct"
   },
   "source": [
    "## Phase 2. Data Pre-processing <a id='data_preprocessing'></a>\n",
    "\n",
    "The objective here is to prepare the data for analysis.\n",
    "The first step is to resolve any problems with the headers. Then we can move on to missing values and duplicates. Let's get started.\n",
    "\n",
    "Correct the formatting in the table headers.\n"
   ]
  },
  {
   "cell_type": "markdown",
   "metadata": {
    "id": "dIaKXr29_Zct"
   },
   "source": [
    "### Header Style <a id='header_style'></a>\n",
    "It shows the header styles:"
   ]
  },
  {
   "cell_type": "code",
   "execution_count": 14,
   "metadata": {
    "id": "oKOTdF_Q_Zct"
   },
   "outputs": [
    {
     "name": "stdout",
     "output_type": "stream",
     "text": [
      "Index(['  userID', 'Track', 'artist', 'genre', '  City  ', 'time', 'Day'], dtype='object')\n"
     ]
    }
   ],
   "source": [
    "# Headers list of the table df\n",
    "print(df.columns)"
   ]
  },
  {
   "cell_type": "markdown",
   "metadata": {
    "id": "zj5534cv_Zct"
   },
   "source": [
    "Table headings should be changed according to the rules of good style:\n",
    "* all characters should be lower case;\n",
    "* remove spaces;\n",
    "* if the name has multiple words, use snake_case."
   ]
  },
  {
   "cell_type": "code",
   "execution_count": 15,
   "metadata": {
    "id": "6I_RwwMhzM4e"
   },
   "outputs": [],
   "source": [
    "# Loop in the headings by putting everything in lower case\n",
    "df = df.rename(columns={\n",
    "    '  userID':'user_id',\n",
    "    'Track':'track',\n",
    "    'artist':'artist',\n",
    "    'genre':'genre',\n",
    "    '  City  ':'city',\n",
    "    'time':'time',\n",
    "    'Day':'day'\n",
    "})"
   ]
  },
  {
   "cell_type": "code",
   "execution_count": 16,
   "metadata": {},
   "outputs": [
    {
     "name": "stdout",
     "output_type": "stream",
     "text": [
      "Index(['user_id', 'track', 'artist', 'genre', 'city', 'time', 'day'], dtype='object')\n"
     ]
    }
   ],
   "source": [
    "# Checking the results: column list names\n",
    "print(df.columns)"
   ]
  },
  {
   "cell_type": "markdown",
   "metadata": {
    "id": "xYJk6ksJVpOl"
   },
   "source": [
    "[Back to Content](#back)"
   ]
  },
  {
   "cell_type": "markdown",
   "metadata": {
    "id": "5ISfbcfY_Zct"
   },
   "source": [
    "### Missing Values <a id='missing_values'></a>\n",
    "First, it finds the number of missing values in the table. To do this, it uses two pandas methods:"
   ]
  },
  {
   "cell_type": "code",
   "execution_count": 17,
   "metadata": {
    "id": "RskX29qr_Zct"
   },
   "outputs": [
    {
     "data": {
      "text/plain": [
       "user_id       0\n",
       "track      1343\n",
       "artist     7567\n",
       "genre      1198\n",
       "city          0\n",
       "time          0\n",
       "day           0\n",
       "dtype: int64"
      ]
     },
     "execution_count": 17,
     "metadata": {},
     "output_type": "execute_result"
    }
   ],
   "source": [
    "# Calculating the number of missing values\n",
    "df.isna().sum()"
   ]
  },
  {
   "cell_type": "markdown",
   "metadata": {
    "id": "qubhgnlO_Zct"
   },
   "source": [
    "\n",
    "Not all missing values affect the investigation. For example, missing values in `track` and `artist` are not crucial. They can simply be replaced with default values such as the string ``unknown``.\n",
    "\n",
    "But missing values in `'genre` can affect the comparison between the musical preferences of Springfield and Shelbyville. In real life, it would be useful to know the reasons for missing data and try to recover it. But we do not have that opportunity in this project. So it will be necessary to:\n",
    "\n",
    "* fill in these missing values with a default value;\n",
    "* assess how much the missing values might affect your computations;"
   ]
  },
  {
   "cell_type": "markdown",
   "metadata": {
    "id": "fSv2laPA_Zct"
   },
   "source": [
    "Replace missing values in `“track”`, `“artist”` and `“genre”` with the string `“unknown”`. To do this, create a `columns_to_replace` list, loop through it with a `for` loop and replace the missing values in each column:"
   ]
  },
  {
   "cell_type": "code",
   "execution_count": 18,
   "metadata": {
    "id": "KplB5qWs_Zct"
   },
   "outputs": [],
   "source": [
    "# Loop in headers replacing missing values with 'unknown'.\n",
    "columns_to_replace = ['track','artist','genre'] #Defined function of columns to replace missing values\n",
    "for replace in columns_to_replace: #Bucle For\n",
    "    df[replace] = df[replace].fillna('unknown') # Scrolling through the column names and replacing missing values with “unknown”."
   ]
  },
  {
   "cell_type": "code",
   "execution_count": 19,
   "metadata": {
    "id": "Tq4nYRX4_Zct"
   },
   "outputs": [
    {
     "data": {
      "text/plain": [
       "user_id    0\n",
       "track      0\n",
       "artist     0\n",
       "genre      0\n",
       "city       0\n",
       "time       0\n",
       "day        0\n",
       "dtype: int64"
      ]
     },
     "execution_count": 19,
     "metadata": {},
     "output_type": "execute_result"
    }
   ],
   "source": [
    "# Counting the missing values after fixing them\n",
    "df.isnull().sum()"
   ]
  },
  {
   "cell_type": "markdown",
   "metadata": {
    "id": "74ZIBmq9VrsK"
   },
   "source": [
    "[Back to Content](#back)"
   ]
  },
  {
   "cell_type": "markdown",
   "metadata": {
    "id": "BWKRtBJ3_Zct"
   },
   "source": [
    "### Duplicates <a id='duplicates'></a>"
   ]
  },
  {
   "cell_type": "code",
   "execution_count": 20,
   "metadata": {
    "id": "36eES_S0_Zct"
   },
   "outputs": [
    {
     "data": {
      "text/plain": [
       "3826"
      ]
     },
     "execution_count": 20,
     "metadata": {},
     "output_type": "execute_result"
    }
   ],
   "source": [
    "# Counting explicit duplicates\n",
    "df.duplicated().sum()\n"
   ]
  },
  {
   "cell_type": "code",
   "execution_count": 21,
   "metadata": {
    "id": "exFHq6tt_Zct"
   },
   "outputs": [
    {
     "data": {
      "text/html": [
       "<div>\n",
       "<style scoped>\n",
       "    .dataframe tbody tr th:only-of-type {\n",
       "        vertical-align: middle;\n",
       "    }\n",
       "\n",
       "    .dataframe tbody tr th {\n",
       "        vertical-align: top;\n",
       "    }\n",
       "\n",
       "    .dataframe thead th {\n",
       "        text-align: right;\n",
       "    }\n",
       "</style>\n",
       "<table border=\"1\" class=\"dataframe\">\n",
       "  <thead>\n",
       "    <tr style=\"text-align: right;\">\n",
       "      <th></th>\n",
       "      <th>user_id</th>\n",
       "      <th>track</th>\n",
       "      <th>artist</th>\n",
       "      <th>genre</th>\n",
       "      <th>city</th>\n",
       "      <th>time</th>\n",
       "      <th>day</th>\n",
       "    </tr>\n",
       "  </thead>\n",
       "  <tbody>\n",
       "    <tr>\n",
       "      <th>0</th>\n",
       "      <td>FFB692EC</td>\n",
       "      <td>Kamigata To Boots</td>\n",
       "      <td>The Mass Missile</td>\n",
       "      <td>rock</td>\n",
       "      <td>Shelbyville</td>\n",
       "      <td>20:28:33</td>\n",
       "      <td>Wednesday</td>\n",
       "    </tr>\n",
       "    <tr>\n",
       "      <th>1</th>\n",
       "      <td>55204538</td>\n",
       "      <td>Delayed Because of Accident</td>\n",
       "      <td>Andreas Rönnberg</td>\n",
       "      <td>rock</td>\n",
       "      <td>Springfield</td>\n",
       "      <td>14:07:09</td>\n",
       "      <td>Friday</td>\n",
       "    </tr>\n",
       "    <tr>\n",
       "      <th>2</th>\n",
       "      <td>20EC38</td>\n",
       "      <td>Funiculì funiculà</td>\n",
       "      <td>Mario Lanza</td>\n",
       "      <td>pop</td>\n",
       "      <td>Shelbyville</td>\n",
       "      <td>20:58:07</td>\n",
       "      <td>Wednesday</td>\n",
       "    </tr>\n",
       "    <tr>\n",
       "      <th>3</th>\n",
       "      <td>A3DD03C9</td>\n",
       "      <td>Dragons in the Sunset</td>\n",
       "      <td>Fire + Ice</td>\n",
       "      <td>folk</td>\n",
       "      <td>Shelbyville</td>\n",
       "      <td>08:37:09</td>\n",
       "      <td>Monday</td>\n",
       "    </tr>\n",
       "    <tr>\n",
       "      <th>4</th>\n",
       "      <td>E2DC1FAE</td>\n",
       "      <td>Soul People</td>\n",
       "      <td>Space Echo</td>\n",
       "      <td>dance</td>\n",
       "      <td>Springfield</td>\n",
       "      <td>08:34:34</td>\n",
       "      <td>Monday</td>\n",
       "    </tr>\n",
       "    <tr>\n",
       "      <th>...</th>\n",
       "      <td>...</td>\n",
       "      <td>...</td>\n",
       "      <td>...</td>\n",
       "      <td>...</td>\n",
       "      <td>...</td>\n",
       "      <td>...</td>\n",
       "      <td>...</td>\n",
       "    </tr>\n",
       "    <tr>\n",
       "      <th>61248</th>\n",
       "      <td>729CBB09</td>\n",
       "      <td>My Name</td>\n",
       "      <td>McLean</td>\n",
       "      <td>rnb</td>\n",
       "      <td>Springfield</td>\n",
       "      <td>13:32:28</td>\n",
       "      <td>Wednesday</td>\n",
       "    </tr>\n",
       "    <tr>\n",
       "      <th>61249</th>\n",
       "      <td>D08D4A55</td>\n",
       "      <td>Maybe One Day (feat. Black Spade)</td>\n",
       "      <td>Blu &amp; Exile</td>\n",
       "      <td>hip</td>\n",
       "      <td>Shelbyville</td>\n",
       "      <td>10:00:00</td>\n",
       "      <td>Monday</td>\n",
       "    </tr>\n",
       "    <tr>\n",
       "      <th>61250</th>\n",
       "      <td>C5E3A0D5</td>\n",
       "      <td>Jalopiina</td>\n",
       "      <td>unknown</td>\n",
       "      <td>industrial</td>\n",
       "      <td>Springfield</td>\n",
       "      <td>20:09:26</td>\n",
       "      <td>Friday</td>\n",
       "    </tr>\n",
       "    <tr>\n",
       "      <th>61251</th>\n",
       "      <td>321D0506</td>\n",
       "      <td>Freight Train</td>\n",
       "      <td>Chas McDevitt</td>\n",
       "      <td>rock</td>\n",
       "      <td>Springfield</td>\n",
       "      <td>21:43:59</td>\n",
       "      <td>Friday</td>\n",
       "    </tr>\n",
       "    <tr>\n",
       "      <th>61252</th>\n",
       "      <td>3A64EF84</td>\n",
       "      <td>Tell Me Sweet Little Lies</td>\n",
       "      <td>Monica Lopez</td>\n",
       "      <td>country</td>\n",
       "      <td>Springfield</td>\n",
       "      <td>21:59:46</td>\n",
       "      <td>Friday</td>\n",
       "    </tr>\n",
       "  </tbody>\n",
       "</table>\n",
       "<p>61253 rows × 7 columns</p>\n",
       "</div>"
      ],
      "text/plain": [
       "        user_id                              track            artist  \\\n",
       "0      FFB692EC                  Kamigata To Boots  The Mass Missile   \n",
       "1      55204538        Delayed Because of Accident  Andreas Rönnberg   \n",
       "2        20EC38                  Funiculì funiculà       Mario Lanza   \n",
       "3      A3DD03C9              Dragons in the Sunset        Fire + Ice   \n",
       "4      E2DC1FAE                        Soul People        Space Echo   \n",
       "...         ...                                ...               ...   \n",
       "61248  729CBB09                            My Name            McLean   \n",
       "61249  D08D4A55  Maybe One Day (feat. Black Spade)       Blu & Exile   \n",
       "61250  C5E3A0D5                          Jalopiina           unknown   \n",
       "61251  321D0506                      Freight Train     Chas McDevitt   \n",
       "61252  3A64EF84          Tell Me Sweet Little Lies      Monica Lopez   \n",
       "\n",
       "            genre         city      time        day  \n",
       "0            rock  Shelbyville  20:28:33  Wednesday  \n",
       "1            rock  Springfield  14:07:09     Friday  \n",
       "2             pop  Shelbyville  20:58:07  Wednesday  \n",
       "3            folk  Shelbyville  08:37:09     Monday  \n",
       "4           dance  Springfield  08:34:34     Monday  \n",
       "...           ...          ...       ...        ...  \n",
       "61248         rnb  Springfield  13:32:28  Wednesday  \n",
       "61249         hip  Shelbyville  10:00:00     Monday  \n",
       "61250  industrial  Springfield  20:09:26     Friday  \n",
       "61251        rock  Springfield  21:43:59     Friday  \n",
       "61252     country  Springfield  21:59:46     Friday  \n",
       "\n",
       "[61253 rows x 7 columns]"
      ]
     },
     "execution_count": 21,
     "metadata": {},
     "output_type": "execute_result"
    }
   ],
   "source": [
    "# Eliminar duplicados explícitos\n",
    "df = df.drop_duplicates().reset_index(drop = True)# eliminando duplicados obvios\n",
    "df"
   ]
  },
  {
   "cell_type": "markdown",
   "metadata": {
    "id": "Im2YwBEG_Zct"
   },
   "source": [
    "\n",
    "Counting explicit duplicates once again to ensure that they have been removed:"
   ]
  },
  {
   "cell_type": "code",
   "execution_count": 22,
   "metadata": {
    "id": "-8PuNWQ0_Zct"
   },
   "outputs": [
    {
     "data": {
      "text/plain": [
       "0"
      ]
     },
     "execution_count": 22,
     "metadata": {},
     "output_type": "execute_result"
    }
   ],
   "source": [
    "# Checking the duplicates\n",
    "df.duplicated().sum()"
   ]
  },
  {
   "cell_type": "markdown",
   "metadata": {
    "id": "QlFBsxAr_Zct"
   },
   "source": [
    "\n",
    "Now we want to get rid of implicit duplicates in the `gender` column. For example, the name of a gender can be written in several ways. Such errors can also affect the result."
   ]
  },
  {
   "cell_type": "markdown",
   "metadata": {
    "id": "eSjWwsOh_Zct"
   },
   "source": [
    "To do this, we first display a list of unique gender names, sorted in alphabetical order. To do this we need to:\n",
    "\n",
    "* retrieve the desired column from the dataFrame;\n",
    "* call the method that will return all unique column values;\n",
    "* Apply a sort method to your result."
   ]
  },
  {
   "cell_type": "code",
   "execution_count": 23,
   "metadata": {
    "id": "JIUcqzZN_Zct"
   },
   "outputs": [
    {
     "name": "stdout",
     "output_type": "stream",
     "text": [
      "['acid' 'acoustic' 'action' 'adult' 'africa' 'afrikaans' 'alternative'\n",
      " 'ambient' 'americana' 'animated' 'anime' 'arabesk' 'arabic' 'arena'\n",
      " 'argentinetango' 'art' 'audiobook' 'avantgarde' 'axé' 'baile' 'balkan'\n",
      " 'beats' 'bigroom' 'black' 'bluegrass' 'blues' 'bollywood' 'bossa'\n",
      " 'brazilian' 'breakbeat' 'breaks' 'broadway' 'cantautori' 'cantopop'\n",
      " 'canzone' 'caribbean' 'caucasian' 'celtic' 'chamber' 'children' 'chill'\n",
      " 'chinese' 'choral' 'christian' 'christmas' 'classical' 'classicmetal'\n",
      " 'club' 'colombian' 'comedy' 'conjazz' 'contemporary' 'country' 'cuban'\n",
      " 'dance' 'dancehall' 'dancepop' 'dark' 'death' 'deep' 'deutschrock'\n",
      " 'deutschspr' 'dirty' 'disco' 'dnb' 'documentary' 'downbeat' 'downtempo'\n",
      " 'drum' 'dub' 'dubstep' 'eastern' 'easy' 'electronic' 'electropop' 'emo'\n",
      " 'entehno' 'epicmetal' 'estrada' 'ethnic' 'eurofolk' 'european'\n",
      " 'experimental' 'extrememetal' 'fado' 'film' 'fitness' 'flamenco' 'folk'\n",
      " 'folklore' 'folkmetal' 'folkrock' 'folktronica' 'forró' 'frankreich'\n",
      " 'französisch' 'french' 'funk' 'future' 'gangsta' 'garage' 'german'\n",
      " 'ghazal' 'gitarre' 'glitch' 'gospel' 'gothic' 'grime' 'grunge' 'gypsy'\n",
      " 'handsup' \"hard'n'heavy\" 'hardcore' 'hardstyle' 'hardtechno' 'hip'\n",
      " 'hip-hop' 'hiphop' 'historisch' 'holiday' 'hop' 'horror' 'house' 'idm'\n",
      " 'independent' 'indian' 'indie' 'indipop' 'industrial' 'inspirational'\n",
      " 'instrumental' 'international' 'irish' 'jam' 'japanese' 'jazz' 'jewish'\n",
      " 'jpop' 'jungle' 'k-pop' 'karadeniz' 'karaoke' 'kayokyoku' 'korean'\n",
      " 'laiko' 'latin' 'latino' 'leftfield' 'local' 'lounge' 'loungeelectronic'\n",
      " 'lovers' 'malaysian' 'mandopop' 'marschmusik' 'meditative'\n",
      " 'mediterranean' 'melodic' 'metal' 'metalcore' 'mexican' 'middle'\n",
      " 'minimal' 'miscellaneous' 'modern' 'mood' 'mpb' 'muslim' 'native'\n",
      " 'neoklassik' 'neue' 'new' 'newage' 'newwave' 'nu' 'nujazz' 'numetal'\n",
      " 'oceania' 'old' 'opera' 'orchestral' 'other' 'piano' 'pop'\n",
      " 'popelectronic' 'popeurodance' 'post' 'posthardcore' 'postrock' 'power'\n",
      " 'progmetal' 'progressive' 'psychedelic' 'punjabi' 'punk' 'quebecois'\n",
      " 'ragga' 'ram' 'rancheras' 'rap' 'rave' 'reggae' 'reggaeton' 'regional'\n",
      " 'relax' 'religious' 'retro' 'rhythm' 'rnb' 'rnr' 'rock' 'rockabilly'\n",
      " 'romance' 'roots' 'ruspop' 'rusrap' 'rusrock' 'salsa' 'samba' 'schlager'\n",
      " 'self' 'sertanejo' 'shoegazing' 'showtunes' 'singer' 'ska' 'slow'\n",
      " 'smooth' 'soul' 'soulful' 'sound' 'soundtrack' 'southern' 'specialty'\n",
      " 'speech' 'spiritual' 'sport' 'stonerrock' 'surf' 'swing' 'synthpop'\n",
      " 'sängerportrait' 'tango' 'tanzorchester' 'taraftar' 'tech' 'techno'\n",
      " 'thrash' 'top' 'traditional' 'tradjazz' 'trance' 'tribal' 'trip'\n",
      " 'triphop' 'tropical' 'türk' 'türkçe' 'unknown' 'urban' 'uzbek' 'variété'\n",
      " 'vi' 'videogame' 'vocal' 'western' 'world' 'worldbeat' 'ïîï']\n"
     ]
    }
   ],
   "source": [
    "# Inspecting unique gender names\n",
    "df = df.sort_values(by ='genre')\n",
    "print(df['genre'].unique())"
   ]
  },
  {
   "cell_type": "markdown",
   "metadata": {
    "id": "qej-Qmuo_Zct"
   },
   "source": [
    "\n",
    "Search the list to find implicit duplicates of the `hiphop` genre. These may be incorrectly spelled names or alternative names for the same genre.\n",
    "\n",
    "The following implicit duplicates are identified:\n",
    "* `hip`\n",
    "* `hop`\n",
    "* `hip-hop`\n",
    "\n",
    "To get rid of them, the function `replace_wrong_genres()` is declared with two parameters:\n",
    "* `wrong_genres=` - the list of duplicates;\n",
    "* `correct_genre=` - the string with the correct value.\n",
    "\n",
    "The function should correct the names in the `“genre”` column of the `df` table, i.e. it replaces each value in the `wrong_genres` list with the value in `correct_genre`. Use a `“for”` loop to iterate over the list of incorrect genres and replace them with the correct genre in the main list."
   ]
  },
  {
   "cell_type": "code",
   "execution_count": 24,
   "metadata": {
    "id": "ErNDkmns_Zct"
   },
   "outputs": [],
   "source": [
    "# Function to replace implicit duplicates\n",
    "def replace_wrong_genres(wrong_genres, correct_genre): # Función con una lista de valores incorrectos y una string con el valor correcto.\n",
    "    for wrong_genre in wrong_genres: # un bucle sobre nombres mal escritos/\"duplicados\"\n",
    "        df['genre'] = df['genre'].replace(wrong_genre, correct_genre) # llamamos a replace() por cada nombre incorrecto"
   ]
  },
  {
   "cell_type": "markdown",
   "metadata": {
    "id": "aDoBJxbA_Zct"
   },
   "source": [
    "Calling `replace_wrong_genres()` and passing arguments to it to remove the implicit duplicates (`hip`, `hop` and `hip-hop`) and replace them with `hiphop`:"
   ]
  },
  {
   "cell_type": "code",
   "execution_count": 25,
   "metadata": {
    "id": "YN5i2hpmSo09"
   },
   "outputs": [
    {
     "name": "stdout",
     "output_type": "stream",
     "text": [
      "        user_id                       track  \\\n",
      "31916  C40BC5DF            Shot in the Dark   \n",
      "3636   F10919ED          Ready For The Fire   \n",
      "20264  B02ED3AB  Prelude – Ne Me Qui Te Pas   \n",
      "37784  77D3A7D9  Prelude – Ne Me Qui Te Pas   \n",
      "14611  1C7D9E90  Prelude – Ne Me Qui Te Pas   \n",
      "...         ...                         ...   \n",
      "6158   12A10DD5                     Ekatana   \n",
      "17963   653E0EF                     Kalinka   \n",
      "27939  D7FB50DA             Drumming Circle   \n",
      "39063  AA1730E8                         Anu   \n",
      "8448   A439123F                     Flip It   \n",
      "\n",
      "                                                  artist      genre  \\\n",
      "31916                                         Four80East       acid   \n",
      "3636                                    Valley Of Wolves   acoustic   \n",
      "20264                                            unknown   acoustic   \n",
      "37784                                            unknown   acoustic   \n",
      "14611                                            unknown   acoustic   \n",
      "...                                                  ...        ...   \n",
      "6158                                         Shantavaani      world   \n",
      "17963  The Red Army Choirs Of Alexandrov (Les Choeurs...      world   \n",
      "27939                                   Professor Trance  worldbeat   \n",
      "39063                                  Kailash Kokopelli  worldbeat   \n",
      "8448                                             unknown        ïîï   \n",
      "\n",
      "              city      time        day  \n",
      "31916  Springfield  09:44:12     Friday  \n",
      "3636   Shelbyville  21:33:18     Monday  \n",
      "20264  Springfield  13:31:03  Wednesday  \n",
      "37784  Springfield  14:27:34     Monday  \n",
      "14611  Shelbyville  21:47:42     Friday  \n",
      "...            ...       ...        ...  \n",
      "6158   Springfield  14:30:19     Friday  \n",
      "17963  Springfield  21:08:36  Wednesday  \n",
      "27939  Springfield  09:30:47     Monday  \n",
      "39063  Shelbyville  20:16:34  Wednesday  \n",
      "8448   Springfield  09:08:51     Friday  \n",
      "\n",
      "[61253 rows x 7 columns]\n"
     ]
    }
   ],
   "source": [
    "# Deleting implicit duplicates\n",
    "duplicates = ['hip','hop','hip-hop'] \n",
    "name = 'hiphop' # the correct name\n",
    "replace_wrong_genres(duplicates, name) # calling the function, replace() will be called 3 times\n",
    "print(df)"
   ]
  },
  {
   "cell_type": "code",
   "execution_count": 26,
   "metadata": {
    "id": "wvixALnFG15m"
   },
   "outputs": [
    {
     "data": {
      "text/plain": [
       "array(['acid', 'acoustic', 'action', 'adult', 'africa', 'afrikaans',\n",
       "       'alternative', 'ambient', 'americana', 'animated', 'anime',\n",
       "       'arabesk', 'arabic', 'arena', 'argentinetango', 'art', 'audiobook',\n",
       "       'avantgarde', 'axé', 'baile', 'balkan', 'beats', 'bigroom',\n",
       "       'black', 'bluegrass', 'blues', 'bollywood', 'bossa', 'brazilian',\n",
       "       'breakbeat', 'breaks', 'broadway', 'cantautori', 'cantopop',\n",
       "       'canzone', 'caribbean', 'caucasian', 'celtic', 'chamber',\n",
       "       'children', 'chill', 'chinese', 'choral', 'christian', 'christmas',\n",
       "       'classical', 'classicmetal', 'club', 'colombian', 'comedy',\n",
       "       'conjazz', 'contemporary', 'country', 'cuban', 'dance',\n",
       "       'dancehall', 'dancepop', 'dark', 'death', 'deep', 'deutschrock',\n",
       "       'deutschspr', 'dirty', 'disco', 'dnb', 'documentary', 'downbeat',\n",
       "       'downtempo', 'drum', 'dub', 'dubstep', 'eastern', 'easy',\n",
       "       'electronic', 'electropop', 'emo', 'entehno', 'epicmetal',\n",
       "       'estrada', 'ethnic', 'eurofolk', 'european', 'experimental',\n",
       "       'extrememetal', 'fado', 'film', 'fitness', 'flamenco', 'folk',\n",
       "       'folklore', 'folkmetal', 'folkrock', 'folktronica', 'forró',\n",
       "       'frankreich', 'französisch', 'french', 'funk', 'future', 'gangsta',\n",
       "       'garage', 'german', 'ghazal', 'gitarre', 'glitch', 'gospel',\n",
       "       'gothic', 'grime', 'grunge', 'gypsy', 'handsup', \"hard'n'heavy\",\n",
       "       'hardcore', 'hardstyle', 'hardtechno', 'hiphop', 'historisch',\n",
       "       'holiday', 'horror', 'house', 'idm', 'independent', 'indian',\n",
       "       'indie', 'indipop', 'industrial', 'inspirational', 'instrumental',\n",
       "       'international', 'irish', 'jam', 'japanese', 'jazz', 'jewish',\n",
       "       'jpop', 'jungle', 'k-pop', 'karadeniz', 'karaoke', 'kayokyoku',\n",
       "       'korean', 'laiko', 'latin', 'latino', 'leftfield', 'local',\n",
       "       'lounge', 'loungeelectronic', 'lovers', 'malaysian', 'mandopop',\n",
       "       'marschmusik', 'meditative', 'mediterranean', 'melodic', 'metal',\n",
       "       'metalcore', 'mexican', 'middle', 'minimal', 'miscellaneous',\n",
       "       'modern', 'mood', 'mpb', 'muslim', 'native', 'neoklassik', 'neue',\n",
       "       'new', 'newage', 'newwave', 'nu', 'nujazz', 'numetal', 'oceania',\n",
       "       'old', 'opera', 'orchestral', 'other', 'piano', 'pop',\n",
       "       'popelectronic', 'popeurodance', 'post', 'posthardcore',\n",
       "       'postrock', 'power', 'progmetal', 'progressive', 'psychedelic',\n",
       "       'punjabi', 'punk', 'quebecois', 'ragga', 'ram', 'rancheras', 'rap',\n",
       "       'rave', 'reggae', 'reggaeton', 'regional', 'relax', 'religious',\n",
       "       'retro', 'rhythm', 'rnb', 'rnr', 'rock', 'rockabilly', 'romance',\n",
       "       'roots', 'ruspop', 'rusrap', 'rusrock', 'salsa', 'samba',\n",
       "       'schlager', 'self', 'sertanejo', 'shoegazing', 'showtunes',\n",
       "       'singer', 'ska', 'slow', 'smooth', 'soul', 'soulful', 'sound',\n",
       "       'soundtrack', 'southern', 'specialty', 'speech', 'spiritual',\n",
       "       'sport', 'stonerrock', 'surf', 'swing', 'synthpop',\n",
       "       'sängerportrait', 'tango', 'tanzorchester', 'taraftar', 'tech',\n",
       "       'techno', 'thrash', 'top', 'traditional', 'tradjazz', 'trance',\n",
       "       'tribal', 'trip', 'triphop', 'tropical', 'türk', 'türkçe',\n",
       "       'unknown', 'urban', 'uzbek', 'variété', 'vi', 'videogame', 'vocal',\n",
       "       'western', 'world', 'worldbeat', 'ïîï'], dtype=object)"
      ]
     },
     "execution_count": 26,
     "metadata": {},
     "output_type": "execute_result"
    }
   ],
   "source": [
    "# Checking the implicit duplicates\n",
    "df['genre'].unique()"
   ]
  },
  {
   "cell_type": "markdown",
   "metadata": {
    "id": "ALgNbvF3VtPA"
   },
   "source": [
    "[Back to Content](#back)"
   ]
  },
  {
   "cell_type": "markdown",
   "metadata": {
    "id": "jz6a9-7HQUDd"
   },
   "source": [
    "### Observations <a id='data_preprocessing_conclusions'></a>\n",
    "\n",
    "It was detected three problems within the data:\n",
    "\n",
    "- Incorrect header styles\n",
    "- Missing values\n",
    "- Obvious and implicit duplicates\n",
    "\n",
    "The headers have been removed to make table processing easier.\n",
    "\n",
    "All missing values have been replaced by “unknown”. But we have yet to see if missing values in “genre” affect our calculations.\n",
    "\n",
    "The absence of duplicates will make the results more accurate and easier to understand.\n",
    "\n",
    "Now we can continue to test the hypotheses."
   ]
  },
  {
   "cell_type": "markdown",
   "metadata": {
    "id": "eK1es74rVujj"
   },
   "source": [
    "[Back to the Content](#back)"
   ]
  },
  {
   "cell_type": "markdown",
   "metadata": {
    "id": "WttZHXH0SqKk"
   },
   "source": [
    "## Phase 3. Hypotheses Test <a id='hypotheses'></a>"
   ]
  },
  {
   "attachments": {},
   "cell_type": "markdown",
   "metadata": {},
   "source": [
    "### Method 1. Statistical Method <a id='stat'></a>\n",
    "\n",
    "One of the methods used in this report are the application of statistic function chi-square test, because it is used for independence on genre counts between the two cities at two time periods. However, it must be analysed if the genres that are going to be compared satisfies the Chi-square assumption, making the test result statistically valid."
   ]
  },
  {
   "cell_type": "code",
   "execution_count": 45,
   "metadata": {},
   "outputs": [],
   "source": [
    "from scipy.stats import chi2_contingency\n",
    "import scipy.stats as stats\n",
    "import seaborn as sns\n",
    "import matplotlib.pyplot as plt"
   ]
  },
  {
   "cell_type": "markdown",
   "metadata": {},
   "source": [
    "Creating a frequency table showing the count of occurrences across the categories being compared."
   ]
  },
  {
   "cell_type": "code",
   "execution_count": 47,
   "metadata": {},
   "outputs": [
    {
     "data": {
      "text/html": [
       "<div>\n",
       "<style scoped>\n",
       "    .dataframe tbody tr th:only-of-type {\n",
       "        vertical-align: middle;\n",
       "    }\n",
       "\n",
       "    .dataframe tbody tr th {\n",
       "        vertical-align: top;\n",
       "    }\n",
       "\n",
       "    .dataframe thead th {\n",
       "        text-align: right;\n",
       "    }\n",
       "</style>\n",
       "<table border=\"1\" class=\"dataframe\">\n",
       "  <thead>\n",
       "    <tr style=\"text-align: right;\">\n",
       "      <th>genre</th>\n",
       "      <th>acid</th>\n",
       "      <th>acoustic</th>\n",
       "      <th>action</th>\n",
       "      <th>adult</th>\n",
       "      <th>africa</th>\n",
       "      <th>afrikaans</th>\n",
       "      <th>alternative</th>\n",
       "      <th>ambient</th>\n",
       "      <th>americana</th>\n",
       "      <th>animated</th>\n",
       "      <th>...</th>\n",
       "      <th>urban</th>\n",
       "      <th>uzbek</th>\n",
       "      <th>variété</th>\n",
       "      <th>vi</th>\n",
       "      <th>videogame</th>\n",
       "      <th>vocal</th>\n",
       "      <th>western</th>\n",
       "      <th>world</th>\n",
       "      <th>worldbeat</th>\n",
       "      <th>ïîï</th>\n",
       "    </tr>\n",
       "    <tr>\n",
       "      <th>city</th>\n",
       "      <th></th>\n",
       "      <th></th>\n",
       "      <th></th>\n",
       "      <th></th>\n",
       "      <th></th>\n",
       "      <th></th>\n",
       "      <th></th>\n",
       "      <th></th>\n",
       "      <th></th>\n",
       "      <th></th>\n",
       "      <th></th>\n",
       "      <th></th>\n",
       "      <th></th>\n",
       "      <th></th>\n",
       "      <th></th>\n",
       "      <th></th>\n",
       "      <th></th>\n",
       "      <th></th>\n",
       "      <th></th>\n",
       "      <th></th>\n",
       "      <th></th>\n",
       "    </tr>\n",
       "  </thead>\n",
       "  <tbody>\n",
       "    <tr>\n",
       "      <th>Shelbyville</th>\n",
       "      <td>0</td>\n",
       "      <td>2</td>\n",
       "      <td>0</td>\n",
       "      <td>8</td>\n",
       "      <td>4</td>\n",
       "      <td>0</td>\n",
       "      <td>649</td>\n",
       "      <td>64</td>\n",
       "      <td>1</td>\n",
       "      <td>0</td>\n",
       "      <td>...</td>\n",
       "      <td>76</td>\n",
       "      <td>12</td>\n",
       "      <td>14</td>\n",
       "      <td>1</td>\n",
       "      <td>48</td>\n",
       "      <td>25</td>\n",
       "      <td>33</td>\n",
       "      <td>515</td>\n",
       "      <td>1</td>\n",
       "      <td>0</td>\n",
       "    </tr>\n",
       "    <tr>\n",
       "      <th>Springfield</th>\n",
       "      <td>1</td>\n",
       "      <td>3</td>\n",
       "      <td>4</td>\n",
       "      <td>16</td>\n",
       "      <td>12</td>\n",
       "      <td>4</td>\n",
       "      <td>1379</td>\n",
       "      <td>183</td>\n",
       "      <td>7</td>\n",
       "      <td>2</td>\n",
       "      <td>...</td>\n",
       "      <td>158</td>\n",
       "      <td>16</td>\n",
       "      <td>24</td>\n",
       "      <td>2</td>\n",
       "      <td>66</td>\n",
       "      <td>68</td>\n",
       "      <td>64</td>\n",
       "      <td>1432</td>\n",
       "      <td>1</td>\n",
       "      <td>1</td>\n",
       "    </tr>\n",
       "  </tbody>\n",
       "</table>\n",
       "<p>2 rows × 266 columns</p>\n",
       "</div>"
      ],
      "text/plain": [
       "genre        acid  acoustic  action  adult  africa  afrikaans  alternative  \\\n",
       "city                                                                         \n",
       "Shelbyville     0         2       0      8       4          0          649   \n",
       "Springfield     1         3       4     16      12          4         1379   \n",
       "\n",
       "genre        ambient  americana  animated  ...  urban  uzbek  variété  vi  \\\n",
       "city                                       ...                              \n",
       "Shelbyville       64          1         0  ...     76     12       14   1   \n",
       "Springfield      183          7         2  ...    158     16       24   2   \n",
       "\n",
       "genre        videogame  vocal  western  world  worldbeat  ïîï  \n",
       "city                                                           \n",
       "Shelbyville         48     25       33    515          1    0  \n",
       "Springfield         66     68       64   1432          1    1  \n",
       "\n",
       "[2 rows x 266 columns]"
      ]
     },
     "execution_count": 47,
     "metadata": {},
     "output_type": "execute_result"
    }
   ],
   "source": [
    "#Frequency table\n",
    "contingency = pd.crosstab(df['city'], df['genre'])\n",
    "contingency"
   ]
  },
  {
   "cell_type": "markdown",
   "metadata": {},
   "source": [
    "Before applying the test, it must be validated this key assumption:\n",
    "\n",
    "Expected frequency in each cell should be ≥ 5\n",
    "If any expected count is too small, the Chi-square result may be invalid."
   ]
  },
  {
   "cell_type": "code",
   "execution_count": 48,
   "metadata": {},
   "outputs": [
    {
     "name": "stdout",
     "output_type": "stream",
     "text": [
      "[[3.02221932e-01 1.51110966e+00 1.20888773e+00 7.25332637e+00\n",
      "  4.83555091e+00 1.20888773e+00 6.12906078e+02 7.46488172e+01\n",
      "  2.41777546e+00 6.04443864e-01 3.14310809e+01 2.71999739e+00\n",
      "  6.04443864e-01 3.02221932e-01 7.85777023e+00 6.04443864e-01\n",
      "  2.11555352e+00 1.66222063e+01 3.02221932e-01 3.02221932e-01\n",
      "  3.32444125e+00 5.43999478e+00 4.23110705e+00 6.34666057e+00\n",
      "  2.11555352e+00 1.51110966e+02 1.51110966e+00 3.02221932e-01\n",
      "  6.95110444e+00 2.41777546e+00 2.41777546e+00 4.53332898e+00\n",
      "  6.04443864e-01 6.04443864e-01 9.06665796e-01 9.06665796e-01\n",
      "  3.50577441e+01 4.83555091e+00 1.51110966e+00 1.56248739e+02\n",
      "  3.20355248e+01 4.83555091e+00 9.06665796e-01 2.56888642e+01\n",
      "  6.34666057e+00 6.83626010e+02 2.26666449e+01 3.02221932e+00\n",
      "  6.04443864e-01 7.25332637e+00 2.26666449e+01 3.02221932e+00\n",
      "  1.43555418e+02 9.06665796e-01 1.92424704e+03 1.23910992e+01\n",
      "  5.43999478e+00 9.06665796e-01 3.62666318e+00 3.92888512e+01\n",
      "  2.11555352e+00 6.04443864e-01 3.02221932e-01 1.81333159e+01\n",
      "  2.71999739e+00 3.02221932e-01 1.51110966e+00 1.26933211e+01\n",
      "  2.81066397e+01 7.55554830e+00 5.34932820e+01 5.13777284e+00\n",
      "  8.31110313e+01 1.66886951e+03 2.11555352e+00 1.20888773e+00\n",
      "  3.02221932e-01 1.96444256e+01 3.23377467e+01 3.92888512e+00\n",
      "  4.83555091e+00 3.92888512e+00 1.63199843e+01 7.49510391e+01\n",
      "  3.02221932e-01 1.11822115e+02 9.67110182e+00 3.62666318e+00\n",
      "  2.93759718e+02 1.51110966e+00 2.44799765e+01 1.81333159e+01\n",
      "  3.02221932e-01 3.02221932e-01 3.02221932e-01 3.02221932e-01\n",
      "  2.50844204e+01 2.17599791e+01 6.64888250e+00 2.71999739e+00\n",
      "  1.81333159e+00 3.62666318e+00 3.02221932e-01 3.02221932e-01\n",
      "  3.92888512e+00 1.54133185e+01 3.92888512e+00 1.81333159e+00\n",
      "  6.04443864e-01 9.06665796e-01 6.04443864e-01 3.83821854e+01\n",
      "  3.95910731e+01 6.04443864e-01 6.04443864e-01 9.23590224e+02\n",
      "  3.02221932e-01 7.16265979e+01 3.02221932e-01 8.94576919e+01\n",
      "  9.06665796e-01 3.02221932e-01 4.83555091e+00 1.90702039e+02\n",
      "  3.02221932e-01 2.32710888e+01 2.71999739e+00 6.67910470e+01\n",
      "  4.23110705e+00 3.02221932e-01 3.02221932e-01 9.06665796e-01\n",
      "  4.43057352e+02 9.06665796e+00 3.80799634e+01 3.02221932e-01\n",
      "  2.90133055e+01 3.02221932e-01 5.13777284e+00 3.02221932e-01\n",
      "  1.81333159e+01 3.02221932e-01 2.78346399e+02 6.04443864e-01\n",
      "  1.51110966e+00 1.08195452e+02 2.11555352e+00 2.38755326e+01\n",
      "  3.02221932e-01 3.02221932e-01 3.02221932e-01 3.02221932e-01\n",
      "  3.02221932e+00 6.04443864e-01 2.47821984e+01 3.65688538e+02\n",
      "  3.02221932e-01 1.20888773e+00 2.41777546e+00 1.63199843e+01\n",
      "  1.00337681e+02 1.26933211e+01 6.04443864e-01 2.71999739e+00\n",
      "  2.11555352e+00 9.06665796e-01 6.04443864e-01 3.02221932e-01\n",
      "  1.71662057e+02 5.43999478e+00 2.71999739e+00 4.83555091e+00\n",
      "  9.06665796e-01 2.59910862e+01 6.04443864e-01 7.85777023e+00\n",
      "  9.36887989e+00 9.06665796e-01 1.54133185e+01 1.51110966e+00\n",
      "  2.51539314e+03 3.02221932e-01 3.02221932e-01 2.41777546e+00\n",
      "  5.77243890e+01 2.08533133e+01 1.20888773e+00 2.56888642e+01\n",
      "  4.23110705e+01 8.97599138e+01 3.02221932e-01 1.24213214e+02\n",
      "  3.02221932e-01 3.02221932e-01 6.04443864e-01 9.06665796e-01\n",
      "  2.57493086e+02 3.02221932e-01 1.81635381e+02 2.11555352e+00\n",
      "  3.02221932e-01 1.63199843e+01 2.23644230e+01 1.20888773e+00\n",
      "  1.51110966e+00 2.87715279e+02 4.23110705e+00 1.76618497e+03\n",
      "  6.04443864e-01 1.08799896e+01 3.02221932e-01 5.77243890e+02\n",
      "  5.21332833e+02 1.84959822e+02 2.23644230e+01 1.51110966e+00\n",
      "  1.20888773e+01 2.71999739e+00 9.06665796e-01 3.02221932e-01\n",
      "  3.02221932e-01 5.95377206e+01 1.45066527e+01 6.04443864e-01\n",
      "  2.71999739e+00 2.59910862e+01 6.04443864e-01 3.02221932e-01\n",
      "  3.37279676e+02 2.71999739e+00 3.02221932e-01 9.06665796e-01\n",
      "  5.07732846e+01 2.41777546e+00 1.60177624e+01 1.51110966e+00\n",
      "  2.41777546e+01 3.02221932e-01 3.02221932e-01 2.02488694e+01\n",
      "  3.02221932e-01 3.02221932e-01 9.36887989e+00 4.56355117e+01\n",
      "  2.05510914e+01 3.02221932e-01 1.51110966e+00 2.41777546e+00\n",
      "  3.59644099e+01 3.02221932e-01 9.06665796e-01 2.23644230e+01\n",
      "  2.53866423e+01 1.20888773e+00 7.55554830e+00 3.40604117e+02\n",
      "  7.07199321e+01 8.46221410e+00 1.14844334e+01 9.06665796e-01\n",
      "  3.44533002e+01 2.81066397e+01 2.93155274e+01 5.88426102e+02\n",
      "  6.04443864e-01 3.02221932e-01]\n",
      " [6.97778068e-01 3.48889034e+00 2.79111227e+00 1.67466736e+01\n",
      "  1.11644491e+01 2.79111227e+00 1.41509392e+03 1.72351183e+02\n",
      "  5.58222454e+00 1.39555614e+00 7.25689191e+01 6.28000261e+00\n",
      "  1.39555614e+00 6.97778068e-01 1.81422298e+01 1.39555614e+00\n",
      "  4.88444648e+00 3.83777937e+01 6.97778068e-01 6.97778068e-01\n",
      "  7.67555875e+00 1.25600052e+01 9.76889295e+00 1.46533394e+01\n",
      "  4.88444648e+00 3.48889034e+02 3.48889034e+00 6.97778068e-01\n",
      "  1.60488956e+01 5.58222454e+00 5.58222454e+00 1.04666710e+01\n",
      "  1.39555614e+00 1.39555614e+00 2.09333420e+00 2.09333420e+00\n",
      "  8.09422559e+01 1.11644491e+01 3.48889034e+00 3.60751261e+02\n",
      "  7.39644752e+01 1.11644491e+01 2.09333420e+00 5.93111358e+01\n",
      "  1.46533394e+01 1.57837399e+03 5.23333551e+01 6.97778068e+00\n",
      "  1.39555614e+00 1.67466736e+01 5.23333551e+01 6.97778068e+00\n",
      "  3.31444582e+02 2.09333420e+00 4.44275296e+03 2.86089008e+01\n",
      "  1.25600052e+01 2.09333420e+00 8.37333682e+00 9.07111488e+01\n",
      "  4.88444648e+00 1.39555614e+00 6.97778068e-01 4.18666841e+01\n",
      "  6.28000261e+00 6.97778068e-01 3.48889034e+00 2.93066789e+01\n",
      "  6.48933603e+01 1.74444517e+01 1.23506718e+02 1.18622272e+01\n",
      "  1.91888969e+02 3.85313049e+03 4.88444648e+00 2.79111227e+00\n",
      "  6.97778068e-01 4.53555744e+01 7.46622533e+01 9.07111488e+00\n",
      "  1.11644491e+01 9.07111488e+00 3.76800157e+01 1.73048961e+02\n",
      "  6.97778068e-01 2.58177885e+02 2.23288982e+01 8.37333682e+00\n",
      "  6.78240282e+02 3.48889034e+00 5.65200235e+01 4.18666841e+01\n",
      "  6.97778068e-01 6.97778068e-01 6.97778068e-01 6.97778068e-01\n",
      "  5.79155796e+01 5.02400209e+01 1.53511175e+01 6.28000261e+00\n",
      "  4.18666841e+00 8.37333682e+00 6.97778068e-01 6.97778068e-01\n",
      "  9.07111488e+00 3.55866815e+01 9.07111488e+00 4.18666841e+00\n",
      "  1.39555614e+00 2.09333420e+00 1.39555614e+00 8.86178146e+01\n",
      "  9.14089269e+01 1.39555614e+00 1.39555614e+00 2.13240978e+03\n",
      "  6.97778068e-01 1.65373402e+02 6.97778068e-01 2.06542308e+02\n",
      "  2.09333420e+00 6.97778068e-01 1.11644491e+01 4.40297961e+02\n",
      "  6.97778068e-01 5.37289112e+01 6.28000261e+00 1.54208953e+02\n",
      "  9.76889295e+00 6.97778068e-01 6.97778068e-01 2.09333420e+00\n",
      "  1.02294265e+03 2.09333420e+01 8.79200366e+01 6.97778068e-01\n",
      "  6.69866945e+01 6.97778068e-01 1.18622272e+01 6.97778068e-01\n",
      "  4.18666841e+01 6.97778068e-01 6.42653601e+02 1.39555614e+00\n",
      "  3.48889034e+00 2.49804548e+02 4.88444648e+00 5.51244674e+01\n",
      "  6.97778068e-01 6.97778068e-01 6.97778068e-01 6.97778068e-01\n",
      "  6.97778068e+00 1.39555614e+00 5.72178016e+01 8.44311462e+02\n",
      "  6.97778068e-01 2.79111227e+00 5.58222454e+00 3.76800157e+01\n",
      "  2.31662319e+02 2.93066789e+01 1.39555614e+00 6.28000261e+00\n",
      "  4.88444648e+00 2.09333420e+00 1.39555614e+00 6.97778068e-01\n",
      "  3.96337943e+02 1.25600052e+01 6.28000261e+00 1.11644491e+01\n",
      "  2.09333420e+00 6.00089138e+01 1.39555614e+00 1.81422298e+01\n",
      "  2.16311201e+01 2.09333420e+00 3.55866815e+01 3.48889034e+00\n",
      "  5.80760686e+03 6.97778068e-01 6.97778068e-01 5.58222454e+00\n",
      "  1.33275611e+02 4.81466867e+01 2.79111227e+00 5.93111358e+01\n",
      "  9.76889295e+01 2.07240086e+02 6.97778068e-01 2.86786786e+02\n",
      "  6.97778068e-01 6.97778068e-01 1.39555614e+00 2.09333420e+00\n",
      "  5.94506914e+02 6.97778068e-01 4.19364619e+02 4.88444648e+00\n",
      "  6.97778068e-01 3.76800157e+01 5.16355770e+01 2.79111227e+00\n",
      "  3.48889034e+00 6.64284721e+02 9.76889295e+00 4.07781503e+03\n",
      "  1.39555614e+00 2.51200104e+01 6.97778068e-01 1.33275611e+03\n",
      "  1.20366717e+03 4.27040178e+02 5.16355770e+01 3.48889034e+00\n",
      "  2.79111227e+01 6.28000261e+00 2.09333420e+00 6.97778068e-01\n",
      "  6.97778068e-01 1.37462279e+02 3.34933473e+01 1.39555614e+00\n",
      "  6.28000261e+00 6.00089138e+01 1.39555614e+00 6.97778068e-01\n",
      "  7.78720324e+02 6.28000261e+00 6.97778068e-01 2.09333420e+00\n",
      "  1.17226715e+02 5.58222454e+00 3.69822376e+01 3.48889034e+00\n",
      "  5.58222454e+01 6.97778068e-01 6.97778068e-01 4.67511306e+01\n",
      "  6.97778068e-01 6.97778068e-01 2.16311201e+01 1.05364488e+02\n",
      "  4.74489086e+01 6.97778068e-01 3.48889034e+00 5.58222454e+00\n",
      "  8.30355901e+01 6.97778068e-01 2.09333420e+00 5.16355770e+01\n",
      "  5.86133577e+01 2.79111227e+00 1.74444517e+01 7.86395883e+02\n",
      "  1.63280068e+02 1.95377859e+01 2.65155666e+01 2.09333420e+00\n",
      "  7.95466998e+01 6.48933603e+01 6.76844726e+01 1.35857390e+03\n",
      "  1.39555614e+00 6.97778068e-01]]\n"
     ]
    }
   ],
   "source": [
    "#Applying the expected frequency in each cell to validate >= 5\n",
    "chi2, p, dof, expected = chi2_contingency(contingency)\n",
    "print(expected)"
   ]
  },
  {
   "cell_type": "markdown",
   "metadata": {},
   "source": [
    "Analysis: From this table it can be seen that many cells have values < 5:\n",
    "\n",
    "In this case, it needs to group similar categories of genre (e.g., grouping rare genres into \"Other\")"
   ]
  },
  {
   "cell_type": "code",
   "execution_count": 49,
   "metadata": {},
   "outputs": [],
   "source": [
    "#Grouping rare genres (adjusting threshold as needed)\n",
    "top_genres = df['genre'].value_counts().nlargest(10).index\n",
    "df['genre_grouped'] = df['genre'].apply(lambda x: x if x in top_genres else 'Other')"
   ]
  },
  {
   "cell_type": "code",
   "execution_count": 50,
   "metadata": {},
   "outputs": [
    {
     "name": "stdout",
     "output_type": "stream",
     "text": [
      "<class 'pandas.core.frame.DataFrame'>\n",
      "Int64Index: 61253 entries, 31916 to 8448\n",
      "Data columns (total 8 columns):\n",
      " #   Column         Non-Null Count  Dtype \n",
      "---  ------         --------------  ----- \n",
      " 0   user_id        61253 non-null  object\n",
      " 1   track          61253 non-null  object\n",
      " 2   artist         61253 non-null  object\n",
      " 3   genre          61253 non-null  object\n",
      " 4   city           61253 non-null  object\n",
      " 5   time           61253 non-null  object\n",
      " 6   day            61253 non-null  object\n",
      " 7   genre_grouped  61253 non-null  object\n",
      "dtypes: object(8)\n",
      "memory usage: 4.2+ MB\n"
     ]
    }
   ],
   "source": [
    "df.info() #checking the new column in df"
   ]
  },
  {
   "cell_type": "code",
   "execution_count": 51,
   "metadata": {},
   "outputs": [],
   "source": [
    "#Usign the 'genre_grouped' for the chi-square assumption\n",
    "contingency2 = pd.crosstab(df['city'], df['genre_grouped'])"
   ]
  },
  {
   "cell_type": "markdown",
   "metadata": {},
   "source": [
    "chi2, p, dof, expected = chi2_contingency(contingency2)\n",
    "print(expected)"
   ]
  },
  {
   "cell_type": "markdown",
   "metadata": {},
   "source": [
    "Now that the genres are grouped, all expected frequencies are above 5, many are in the hundreds or thousands.\n",
    "\n",
    "- This satisfies the Chi-square assumption, making the test result statistically valid.\n",
    "\n",
    "On the other hand, each row (observation) in the data is independent. It means to say that, for example, a single user's multiple plays shouldn't be treated as independent if they are heavily repeated. Moreover, the high number of data rows is another requirement for using the chi-square test.\n",
    "\n",
    "In conclusion, now the statistical chi-square hypothesis can be applied."
   ]
  },
  {
   "cell_type": "markdown",
   "metadata": {},
   "source": [
    "#### Hypothesis 1: Comparing user behaviour in the two cities  <a id='activity1'></a>"
   ]
  },
  {
   "cell_type": "markdown",
   "metadata": {},
   "source": [
    "- H₀ (Null Hypothesis): User activity is independent of the day of the week and city\n",
    "- H₁ (Alternative Hypothesis): User activity depends on the day and city"
   ]
  },
  {
   "cell_type": "code",
   "execution_count": 56,
   "metadata": {},
   "outputs": [
    {
     "name": "stdout",
     "output_type": "stream",
     "text": [
      "Chi-square Test\n",
      "Chi2: 631.5379936938191 P-value: 7.299063018372907e-138\n"
     ]
    }
   ],
   "source": [
    "# Count users per city and day\n",
    "activity = df.groupby(['city', 'day'])['user_id'].nunique().unstack()\n",
    "\n",
    "# Chi-square test\n",
    "chi2, p, dof, expected = stats.chi2_contingency(activity.fillna(0))\n",
    "\n",
    "print(\"Chi-square Test\")\n",
    "print(\"Chi2:\", chi2, \"P-value:\", p)"
   ]
  },
  {
   "cell_type": "markdown",
   "metadata": {},
   "source": [
    "**Conclusion**: p-value is less than 0.05. There is a statistically significant association between the day of the week and the city in terms of user activity. In other words, user activity patterns do vary across different days and cities.\n",
    "\n",
    "- City-specific behavior: Some cities are likely more active on certain days than others.\n",
    "\n",
    "- Business insight: Marketing or app engagement strategies can be tailored by city and day of the week to optimize reach."
   ]
  },
  {
   "cell_type": "markdown",
   "metadata": {},
   "source": [
    "#### Hypothesis 2: On Monday mornings and Friday nights, Springfield and Shelbyville listen to different genres  <a id='week1'></a>"
   ]
  },
  {
   "cell_type": "markdown",
   "metadata": {},
   "source": [
    "- H₀ (Null Hypothesis): Genre preferences are the same in Springfield and Shelbyville during Monday mornings and Friday nights.\n",
    "\n",
    "- H₁ (Alternative Hypothesis): Genre preferences differ between Springfield and Shelbyville during those times."
   ]
  },
  {
   "cell_type": "markdown",
   "metadata": {},
   "source": [
    "Here, the chi-square is the most suitable, because it is great for testing independence across multiple categories (e.g., genre preference across all genres and both cities)."
   ]
  },
  {
   "cell_type": "code",
   "execution_count": 60,
   "metadata": {
    "scrolled": true
   },
   "outputs": [
    {
     "name": "stdout",
     "output_type": "stream",
     "text": [
      "🟦 Monday Morning Genre Test\n",
      "H0: Genre preferences are the same in both cities\n",
      "Chi2: 196.5258689800999 P-value: 0.015455869304097746\n",
      "\n",
      "🟨 Friday Night Genre Test\n",
      "H0: Genre preferences are the same in both cities\n",
      "Chi2: 194.26633801873584 P-value: 0.15159399431250478\n"
     ]
    }
   ],
   "source": [
    "\n",
    "# Preprocess: extract hour from time column\n",
    "df['hour'] = pd.to_datetime(df['time']).dt.hour\n",
    "\n",
    "# Filter Monday morning (7:00 to 11:59)\n",
    "monday_morning = df[\n",
    "    (df['day'] == 'Monday') &\n",
    "    (df['hour'] >= 7) & (df['hour'] < 12)\n",
    "]\n",
    "\n",
    "# Filter Friday night (17:00 to 23:59)\n",
    "friday_night = df[\n",
    "    (df['day'] == 'Friday') &\n",
    "    (df['hour'] >= 17) & (df['hour'] < 24)\n",
    "]\n",
    "\n",
    "# Create contingency tables\n",
    "monday_genre = pd.crosstab(monday_morning['genre'], monday_morning['city'])\n",
    "friday_genre = pd.crosstab(friday_night['genre'], friday_night['city'])\n",
    "\n",
    "# Run chi-square test for Monday morning\n",
    "chi2_monday, p_monday, _, _ = chi2_contingency(monday_genre)\n",
    "print(\"🟦 Monday Morning Genre Test\")\n",
    "print(\"H0: Genre preferences are the same in both cities\")\n",
    "print(\"Chi2:\", chi2_monday, \"P-value:\", p_monday)\n",
    "\n",
    "# Run chi-square test for Friday night\n",
    "chi2_friday, p_friday, _, _ = chi2_contingency(friday_genre)\n",
    "print(\"\\n🟨 Friday Night Genre Test\")\n",
    "print(\"H0: Genre preferences are the same in both cities\")\n",
    "print(\"Chi2:\", chi2_friday, \"P-value:\", p_friday)\n"
   ]
  },
  {
   "cell_type": "markdown",
   "metadata": {},
   "source": [
    "**Conclusions:**\n",
    "- For Monday mornings listening: p-value < 0.05. The null hypothesis (H₀) is rejected for Monday morning.\n",
    "There is a statistically significant difference in genre preferences between Springfield and Shelbyville during Monday mornings. Indicates that the data are unlikely under H₀, it means that, we cannot conclude that genre preferences are the same in Springfield and Shelbyville during Monday mornings.\n",
    "\n",
    "- For Friday nights listening:  p-value < 0.05. The null hyphotesis is rejected for Friday nights.\n",
    "There is no statistically significant difference in genre preferences between Springfield and Shelbyville during Friday nights. Indicates that the data are unlikely under H₀, it means that, we cannot conclude that genre preferences are the same in Springfield and Shelbyville during Friday nights.\n"
   ]
  },
  {
   "cell_type": "markdown",
   "metadata": {},
   "source": [
    "#### Hypothesis 3: Springfield prefers pop, Shelbyville prefers rap <a id='genre1'></a>"
   ]
  },
  {
   "cell_type": "markdown",
   "metadata": {},
   "source": [
    "- H₀ (Null Hypothesis): The proportion of pop and rap listeners is the same in Springfield and Shelbyville.\n",
    "\n",
    "- H₁ (Alternative Hypothesis): Springfield has a higher proportion of pop, and Shelbyville has a higher proportion of rap."
   ]
  },
  {
   "cell_type": "markdown",
   "metadata": {},
   "source": [
    "Here, we do not use chi-square test, because it is more general, less targeted for a binary comparison such as this \"Hypothesis 3\" where is comparing 2 (binary) specific genres. Furthermore, it is not t-student test, because, the t-test is for comparing means of continuous variables, like average listening time or volume of plays—not proportions or counts, and genre is categorical, not numerical.\n",
    "\n",
    "The best option here is the z-test because it compares proportions between two independent groups and the data is categorical and binary."
   ]
  },
  {
   "cell_type": "code",
   "execution_count": 63,
   "metadata": {
    "scrolled": true
   },
   "outputs": [
    {
     "name": "stdout",
     "output_type": "stream",
     "text": [
      "Springfield:\n",
      "np (pop): 5892\n",
      "n(1-p) (non-pop = rap): 543\n",
      "Shelbyville:\n",
      "np (pop): 2431\n",
      "n(1-p) (non-pop = rap): 309\n",
      " Z-test suitability for Springfield: PASS\n",
      " Z-test suitability for Shelbyville: PASS\n"
     ]
    }
   ],
   "source": [
    "#Checking if the dataset is large enough to use the z-test\n",
    "\n",
    "# 1. Filter for pop and rap genres in Springfield and Shelbyville\n",
    "filtered_df = df[\n",
    "    (df['city'].isin(['Springfield', 'Shelbyville'])) &\n",
    "    (df['genre'].isin(['pop', 'rap']))\n",
    "]\n",
    "\n",
    "# 2. Count number of 'pop' and 'rap' listeners per city\n",
    "genre_counts = filtered_df.groupby(['city', 'genre']).size().unstack(fill_value=0)\n",
    "\n",
    "# Total listeners per city\n",
    "springfield_total = genre_counts.loc['Springfield'].sum()\n",
    "shelbyville_total = genre_counts.loc['Shelbyville'].sum()\n",
    "\n",
    "# Pop listener count per city\n",
    "springfield_pop = genre_counts.loc['Springfield', 'pop']\n",
    "shelbyville_pop = genre_counts.loc['Shelbyville', 'pop']\n",
    "\n",
    "# 3. Check np and n(1-p) for both cities\n",
    "print(\"Springfield:\")\n",
    "print(\"np (pop):\", springfield_pop)\n",
    "print(\"n(1-p) (non-pop = rap):\", springfield_total - springfield_pop)\n",
    "\n",
    "print(\"Shelbyville:\")\n",
    "print(\"np (pop):\", shelbyville_pop)\n",
    "print(\"n(1-p) (non-pop = rap):\", shelbyville_total - shelbyville_pop)\n",
    "\n",
    "# Optional: auto-check pass/fail\n",
    "def check_conditions(n, p_label, city_name):\n",
    "    np = n[p_label]\n",
    "    n_not_p = n.sum() - np #condition n*p>=5 to assure sample is large enough for using z-test \n",
    "    result = (np >= 5) and (n_not_p >= 5) \n",
    "    print(f\" Z-test suitability for {city_name}: {'PASS' if result else 'FAIL'}\")\n",
    "\n",
    "check_conditions(genre_counts.loc['Springfield'], 'pop', 'Springfield')\n",
    "check_conditions(genre_counts.loc['Shelbyville'], 'pop', 'Shelbyville')"
   ]
  },
  {
   "cell_type": "markdown",
   "metadata": {},
   "source": [
    "Now, the z-test is applied as follows:"
   ]
  },
  {
   "cell_type": "code",
   "execution_count": 64,
   "metadata": {},
   "outputs": [
    {
     "name": "stdout",
     "output_type": "stream",
     "text": [
      "🎧 Genre counts:\n",
      " genre         pop  rap\n",
      "city                  \n",
      "Shelbyville  2431  309\n",
      "Springfield  5892  543\n",
      "\n",
      "🟦 Pop Preference Test (Springfield vs Shelbyville)\n",
      "H₀: Both cities have the same proportion of pop listeners\n",
      "Z-statistic: 4.288 | P-value: 2e-05\n",
      "\n",
      "🟨 Rap Preference Test (Shelbyville vs Springfield)\n",
      "H₀: Both cities have the same proportion of rap listeners\n",
      "Z-statistic: 4.288 | P-value: 2e-05\n"
     ]
    }
   ],
   "source": [
    "from statsmodels.stats.proportion import proportions_ztest\n",
    "\n",
    "# 1. Count listeners per genre per city\n",
    "genre_counts = filtered_df.groupby(['city', 'genre']).size().unstack(fill_value=0)\n",
    "\n",
    "# Print genre counts table\n",
    "print(\"🎧 Genre counts:\\n\", genre_counts)\n",
    "\n",
    "# 2. --------- POP PREFERENCE TEST ----------\n",
    "springfield_pop = genre_counts.loc['Springfield', 'pop']\n",
    "shelbyville_pop = genre_counts.loc['Shelbyville', 'pop']\n",
    "springfield_total = genre_counts.loc['Springfield'].sum()\n",
    "shelbyville_total = genre_counts.loc['Shelbyville'].sum()\n",
    "\n",
    "count_pop = [springfield_pop, shelbyville_pop]\n",
    "nobs_pop = [springfield_total, shelbyville_total]\n",
    "\n",
    "stat_pop, pval_pop = proportions_ztest(count_pop, nobs_pop)\n",
    "print(\"\\n🟦 Pop Preference Test (Springfield vs Shelbyville)\")\n",
    "print(\"H₀: Both cities have the same proportion of pop listeners\")\n",
    "print(\"Z-statistic:\", round(stat_pop, 3), \"| P-value:\", round(pval_pop, 5))\n",
    "\n",
    "# 3. --------- RAP PREFERENCE TEST ----------\n",
    "springfield_rap = genre_counts.loc['Springfield', 'rap']\n",
    "shelbyville_rap = genre_counts.loc['Shelbyville', 'rap']\n",
    "\n",
    "count_rap = [shelbyville_rap, springfield_rap]\n",
    "nobs_rap = [shelbyville_total, springfield_total]\n",
    "\n",
    "stat_rap, pval_rap = proportions_ztest(count_rap, nobs_rap)\n",
    "print(\"\\n🟨 Rap Preference Test (Shelbyville vs Springfield)\")\n",
    "print(\"H₀: Both cities have the same proportion of rap listeners\")\n",
    "print(\"Z-statistic:\", round(stat_rap, 3), \"| P-value:\", round(pval_rap, 5))\n"
   ]
  },
  {
   "cell_type": "markdown",
   "metadata": {},
   "source": [
    "**Conclusions:**\n",
    "\n",
    "- For Pop listeners test: p-value < 0.05 and the H0 is rejected. There is a statistically significant difference in the proportion of pop listeners, with Springfield showing a higher proportion than Shelbyville.\n",
    "- For Rap listeners test: p-value < 0.05 and the H0 is rejected. There is a statistically significant difference in the proportion of rap listeners, with Shelbyville showing a higher proportion than Springfield.\n",
    "\n",
    "It means to say that we cannot conclude in both cases that both cities have the same proportion of pop/rap listeners."
   ]
  },
  {
   "cell_type": "markdown",
   "metadata": {},
   "source": [
    "### Method 2: Hypothesis <a id='stat2'></a>"
   ]
  },
  {
   "cell_type": "markdown",
   "metadata": {
    "id": "Im936VVi_Zcu"
   },
   "source": [
    "#### Hypothesis 1: Comparing user behaviour in the two cities. <a id='activity'></a>"
   ]
  },
  {
   "cell_type": "markdown",
   "metadata": {
    "id": "nwt_MuaL_Zcu"
   },
   "source": [
    "\n",
    "The first hypothesis states that there are differences in the way male and female users in Springfield and Shelbyville consume music. To test this, it uses data from three days of the week: Monday, Wednesday and Friday.\n",
    "\n",
    "* Group the users by city.\n",
    "* Compare the number of songs each group played on Monday, Wednesday and Friday."
   ]
  },
  {
   "cell_type": "markdown",
   "metadata": {
    "id": "8Dw_YMmT_Zcu"
   },
   "source": [
    "For this, each calculation will be done separately.\n",
    "\n",
    "To evaluate the activity of users in each city, the data will be grouped by city and the number of songs played in each group will be found."
   ]
  },
  {
   "cell_type": "code",
   "execution_count": 64,
   "metadata": {
    "id": "0_Qs96oh_Zcu"
   },
   "outputs": [
    {
     "data": {
      "text/plain": [
       "city\n",
       "Shelbyville    18512\n",
       "Springfield    42741\n",
       "Name: track, dtype: int64"
      ]
     },
     "execution_count": 64,
     "metadata": {},
     "output_type": "execute_result"
    }
   ],
   "source": [
    "# Counting the songs played in each city\n",
    "df.groupby('city')['track'].count()"
   ]
  },
  {
   "cell_type": "markdown",
   "metadata": {
    "id": "t_Qx-3NewAnK"
   },
   "source": [
    "\n",
    "Springfield has played more tracks than Shelbyville. But that does not imply that Springfield citizens listen to music more often. This city is simply bigger and there are more users.\n",
    "\n",
    "Now the data will be grouped by day of the week and it will be found the number of tracks played on Monday, Wednesday and Friday."
   ]
  },
  {
   "cell_type": "code",
   "execution_count": 65,
   "metadata": {
    "id": "uZMKjiJz_Zcu"
   },
   "outputs": [
    {
     "data": {
      "text/plain": [
       "day\n",
       "Friday       21840\n",
       "Monday       21354\n",
       "Wednesday    18059\n",
       "Name: track, dtype: int64"
      ]
     },
     "execution_count": 65,
     "metadata": {},
     "output_type": "execute_result"
    }
   ],
   "source": [
    "# calculating the number of songs played on each of the three days\n",
    "df.groupby('day')['track'].count()# calculando las pistas reproducidas en cada uno de los tres días"
   ]
  },
  {
   "cell_type": "markdown",
   "metadata": {
    "id": "cC2tNrlL_Zcu"
   },
   "source": [
    "Wednesday was the quietest day of all. But if we consider the two cities separately we might come to a different conclusion."
   ]
  },
  {
   "cell_type": "markdown",
   "metadata": {
    "id": "POzs8bGa_Zcu"
   },
   "source": [
    "Now you need to write a function that can count entries by both criteria simultaneously.\n",
    "\n",
    "For this you create `number_tracks()` to calculate the number of songs played on a given day and city. The function must accept two parameters:\n",
    "\n",
    "- `day`: a day of the week to filter for. For example, `'Monday`.\n",
    "- `city`: a city to filter on. For example, `“Springfield”`.\n",
    "\n",
    "Within the function, consecutive filtering with logical indexing will be applied.\n",
    "\n",
    "First the data is filtered by day and then the resulting table is filtered by city.\n",
    "\n",
    "After filtering the data by two criteria, the number of values in the column “user_id” in the resulting table is counted. This count represents the number of entries being searched."
   ]
  },
  {
   "cell_type": "code",
   "execution_count": 66,
   "metadata": {
    "id": "Nz3GdQB1_Zcu"
   },
   "outputs": [
    {
     "name": "stdout",
     "output_type": "stream",
     "text": [
      "11056\n"
     ]
    }
   ],
   "source": [
    "#Creating the function 'number_tracks'\n",
    "def number_tracks(day,city):\n",
    "    track_list = df[(df['day'] == day) & (df['city'] == city)]\n",
    "    track_list_count = track_list['user_id'].count()\n",
    "    print(track_list_count)\n",
    "  \n",
    "number_tracks('Wednesday','Springfield') #calling the function fixing the day and city as shown:\n",
    "\n"
   ]
  },
  {
   "cell_type": "markdown",
   "metadata": {
    "id": "ytf7xFrFJQ2r"
   },
   "source": [
    "\n",
    "Calling `number_tracks()` six times, changing the parameter values so that you retrieve data for both cities for each of the three days."
   ]
  },
  {
   "cell_type": "code",
   "execution_count": 67,
   "metadata": {
    "id": "rJcRATNQ_Zcu"
   },
   "outputs": [
    {
     "name": "stdout",
     "output_type": "stream",
     "text": [
      "15740\n"
     ]
    }
   ],
   "source": [
    "# The number of songs played in Springfield on Monday\n",
    "number_tracks('Monday','Springfield')"
   ]
  },
  {
   "cell_type": "code",
   "execution_count": 68,
   "metadata": {
    "id": "hq_ncZ5T_Zcu"
   },
   "outputs": [
    {
     "name": "stdout",
     "output_type": "stream",
     "text": [
      "5614\n"
     ]
    }
   ],
   "source": [
    "# Number of songs played in Shelbyville on Monday\n",
    "number_tracks('Monday','Shelbyville')"
   ]
  },
  {
   "cell_type": "code",
   "execution_count": 69,
   "metadata": {
    "id": "_NTy2VPU_Zcu"
   },
   "outputs": [
    {
     "name": "stdout",
     "output_type": "stream",
     "text": [
      "11056\n"
     ]
    }
   ],
   "source": [
    "# The number of songs played in Springfield on Wednesday\n",
    "number_tracks('Wednesday','Springfield')"
   ]
  },
  {
   "cell_type": "code",
   "execution_count": 70,
   "metadata": {
    "id": "j2y3TAwo_Zcu"
   },
   "outputs": [
    {
     "name": "stdout",
     "output_type": "stream",
     "text": [
      "7003\n"
     ]
    }
   ],
   "source": [
    "# Number of songs played in Shelbyville on Wednesday\n",
    "number_tracks('Wednesday','Shelbyville')"
   ]
  },
  {
   "cell_type": "code",
   "execution_count": 71,
   "metadata": {
    "id": "vYDw5u_K_Zcu"
   },
   "outputs": [
    {
     "name": "stdout",
     "output_type": "stream",
     "text": [
      "15945\n"
     ]
    }
   ],
   "source": [
    "# The number of songs played in Springfield on Friday\n",
    "number_tracks('Friday','Springfield')"
   ]
  },
  {
   "cell_type": "code",
   "execution_count": 72,
   "metadata": {
    "id": "8_yzFtW3_Zcu"
   },
   "outputs": [
    {
     "name": "stdout",
     "output_type": "stream",
     "text": [
      "5895\n"
     ]
    }
   ],
   "source": [
    "# Number of songs played in Shelbyville on Friday\n",
    "number_tracks('Friday','Shelbyville')"
   ]
  },
  {
   "cell_type": "markdown",
   "metadata": {
    "id": "7QXffbO-_Zcu"
   },
   "source": [
    "\n",
    "We create `pd.DataFrame` to create a table, where:\n",
    "\n",
    "* The table headers are: `[“city”, “monday”, “wednesday”, “friday”]`.\n",
    "* The data is the results obtained from `number_tracks()`."
   ]
  },
  {
   "cell_type": "code",
   "execution_count": 73,
   "metadata": {
    "id": "APAcLpOr_Zcu"
   },
   "outputs": [
    {
     "name": "stdout",
     "output_type": "stream",
     "text": [
      "          city  monday  wednesday  friday\n",
      "0  Shelbyville    5614       7003    5895\n",
      "1  Springfield   15740      11056   15945\n"
     ]
    }
   ],
   "source": [
    "# Table Results\n",
    "datos = [['Shelbyville',5614,7003,5895],\n",
    "         ['Springfield',15740,11056,15945]]\n",
    "column_names = ['city','monday','wednesday','friday']\n",
    "tabla = pd.DataFrame(data=datos, columns=column_names)\n",
    "\n",
    "print(tabla)"
   ]
  },
  {
   "cell_type": "markdown",
   "metadata": {
    "id": "-EgPIHYu_Zcu"
   },
   "source": [
    "**Conclusions**\n",
    "\n",
    "The data reveals differences in user behaviour:\n",
    "\n",
    "In Springfield, the number of songs played peaks on Mondays and Fridays while there is a drop in activity on Wednesdays.\n",
    "In Shelbyville, on the contrary, users listen to more music on Wednesdays. User activity on Mondays and Fridays is lower.\n",
    "So the first hypothesis seems to be correct."
   ]
  },
  {
   "cell_type": "markdown",
   "metadata": {
    "id": "p7nFQajCVw5B"
   },
   "source": [
    "[Volver a Contenidos](#back)"
   ]
  },
  {
   "cell_type": "markdown",
   "metadata": {
    "id": "atZAxtq4_Zcu"
   },
   "source": [
    "#### Hypothesis 2: music at the beginning and end of the week <a id='week'></a>"
   ]
  },
  {
   "cell_type": "markdown",
   "metadata": {
    "id": "eXrQqXFH_Zcu"
   },
   "source": [
    "According to the second hypothesis, on Monday mornings and Friday nights, Springfield citizens listen to different genres than those enjoyed by Shelbyville users."
   ]
  },
  {
   "cell_type": "markdown",
   "metadata": {
    "id": "S8UcW6Hw_Zcu"
   },
   "source": [
    "Create two tables with the names provided in the following two code blocks:\n",
    "* For Springfield - `spr_general`.\n",
    "* For Shelbyville - `shel_general`."
   ]
  },
  {
   "cell_type": "code",
   "execution_count": 74,
   "metadata": {
    "id": "qeaFfM_P_Zcu",
    "pycharm": {
     "is_executing": true
    }
   },
   "outputs": [],
   "source": [
    "# #create the table spr_general from the rows df where the value in the “city” column is “Springfield”.\n",
    "spr_general = df[df['city']=='Springfield']"
   ]
  },
  {
   "cell_type": "code",
   "execution_count": 75,
   "metadata": {},
   "outputs": [],
   "source": [
    "# #create the table spr_general from the rows df where the value in the “city” column is “Shelbyville\".\n",
    "shel_general = df[df['city']=='Shelbyville']"
   ]
  },
  {
   "cell_type": "markdown",
   "metadata": {
    "id": "MEJV-CX2_Zcu"
   },
   "source": [
    "\n",
    "The function `genre_weekday()` is written with four parameters:\n",
    "* a table for the data (`df`)\n",
    "* the day of the week (`day`)\n",
    "* The first timestamp, in the format (`time1`)\n",
    "* The last timestamp, in format (`time2`)\n",
    "\n",
    "The function will return information on the 15 most popular genres for a given day in a period between two timestamps.\n",
    "The same consecutive filtering logic will then be applied, but this time using four filters, and then a new column will be created with the respective play counts."
   ]
  },
  {
   "cell_type": "code",
   "execution_count": 76,
   "metadata": {
    "colab": {
     "base_uri": "https://localhost:8080/",
     "height": 143
    },
    "id": "laJT9BYl_Zcu",
    "outputId": "3580a4fa-38ec-4673-a70c-51365c8ee251"
   },
   "outputs": [],
   "source": [
    "# Creating the variable genre_df which will store only those df rows where the day is equal to day=\n",
    "def genre_weekday(dataframe,day,time1,time2):#declara funcion genre_weekday()   \n",
    "    genre_df = dataframe[(dataframe['day'] == day) & (dataframe['time'] > time1) & (dataframe['time'] < time2) ] \n",
    "    \n",
    "    # Filter genre_df again to store only the rows where the time is less than time2=\n",
    "    genre_df = genre_df[genre_df['time'] < time2]\n",
    "\n",
    "    # Filter genre_df again to store only rows where the time is greater than time1=\n",
    "    genre_df = genre_df[genre_df['time'] > time1]\n",
    "\n",
    "    # Group the filtered DataFrame by the column with the genre names, select the column “genre”,\n",
    "    # and find the number of rows for each genre with the count() method\n",
    "    genre_df_count = genre_df.groupby('genre')['user_id'].count()\n",
    "\n",
    "    # Sort the resulting Series object in descending order (so that the most popular genres appear first in the Series object)\n",
    "    genre_df_sorted = genre_df_count.sort_values(ascending = False)\n",
    "\n",
    "    # Return a Series object with the first 15 values of genre_df_sorted the 15 most popular genres (on a given day, within a given timeframe period)\n",
    "    return genre_df_sorted[:15]"
   ]
  },
  {
   "cell_type": "markdown",
   "metadata": {
    "id": "la2s2_PF_Zcu"
   },
   "source": [
    "We compare the results of the `genre_weekday()` function for Springfield and Shelbyville on Monday morning (from 7 to 11) and Friday afternoon (from 17:00 to 23:00). Using the same 24-hour format as the dataset (e.g. 05:00 = 17:00:00):"
   ]
  },
  {
   "cell_type": "code",
   "execution_count": 77,
   "metadata": {
    "id": "yz7itPUQ_Zcu"
   },
   "outputs": [
    {
     "data": {
      "text/plain": [
       "genre\n",
       "pop            781\n",
       "dance          549\n",
       "electronic     480\n",
       "rock           474\n",
       "hiphop         286\n",
       "ruspop         186\n",
       "world          181\n",
       "rusrap         175\n",
       "alternative    164\n",
       "unknown        161\n",
       "classical      157\n",
       "metal          120\n",
       "jazz           100\n",
       "folk            97\n",
       "soundtrack      95\n",
       "Name: user_id, dtype: int64"
      ]
     },
     "execution_count": 77,
     "metadata": {},
     "output_type": "execute_result"
    }
   ],
   "source": [
    "# calling the function for Monday morning in Springfield (using spr_general instead of the df table)\n",
    "genre_weekday(spr_general,'Monday','07:00','11:00')"
   ]
  },
  {
   "cell_type": "code",
   "execution_count": 78,
   "metadata": {
    "id": "kwUcHPdy_Zcu"
   },
   "outputs": [
    {
     "data": {
      "text/plain": [
       "genre\n",
       "pop            218\n",
       "dance          182\n",
       "rock           162\n",
       "electronic     147\n",
       "hiphop          80\n",
       "ruspop          64\n",
       "alternative     58\n",
       "rusrap          55\n",
       "jazz            44\n",
       "classical       40\n",
       "world           36\n",
       "rap             32\n",
       "soundtrack      31\n",
       "rnb             27\n",
       "metal           27\n",
       "Name: user_id, dtype: int64"
      ]
     },
     "execution_count": 78,
     "metadata": {},
     "output_type": "execute_result"
    }
   ],
   "source": [
    "# calling the function for Monday morning in Shelbyville (using shel_general instead of the df table)\n",
    "genre_weekday(shel_general,'Monday','07:00','11:00')"
   ]
  },
  {
   "cell_type": "code",
   "execution_count": 81,
   "metadata": {
    "id": "EzXVRE1o_Zcu"
   },
   "outputs": [
    {
     "data": {
      "text/plain": [
       "genre\n",
       "pop            713\n",
       "rock           517\n",
       "dance          495\n",
       "electronic     482\n",
       "hiphop         273\n",
       "world          208\n",
       "ruspop         170\n",
       "classical      163\n",
       "alternative    163\n",
       "rusrap         142\n",
       "jazz           111\n",
       "unknown        110\n",
       "soundtrack     105\n",
       "rnb             90\n",
       "metal           88\n",
       "Name: user_id, dtype: int64"
      ]
     },
     "execution_count": 81,
     "metadata": {},
     "output_type": "execute_result"
    }
   ],
   "source": [
    "# calling the show for Friday evening in Springfield\n",
    "genre_weekday(spr_general,'Friday','17:00','23:00')"
   ]
  },
  {
   "cell_type": "code",
   "execution_count": 82,
   "metadata": {
    "id": "JZaEKu5v_Zcu"
   },
   "outputs": [
    {
     "data": {
      "text/plain": [
       "genre\n",
       "pop            256\n",
       "rock           216\n",
       "electronic     216\n",
       "dance          210\n",
       "hiphop          97\n",
       "alternative     63\n",
       "jazz            61\n",
       "classical       60\n",
       "rusrap          59\n",
       "world           54\n",
       "unknown         47\n",
       "ruspop          47\n",
       "soundtrack      40\n",
       "metal           39\n",
       "rap             36\n",
       "Name: user_id, dtype: int64"
      ]
     },
     "execution_count": 82,
     "metadata": {},
     "output_type": "execute_result"
    }
   ],
   "source": [
    "# Calling the show for Friday afternoon in Shelbyville\n",
    "genre_weekday(shel_general,'Friday','17:00','23:00')"
   ]
  },
  {
   "cell_type": "markdown",
   "metadata": {
    "id": "wrCe4MNX_Zcu"
   },
   "source": [
    "**Conclusion**\n",
    "\n",
    "Having compared the 15 most popular Monday morning genres we can conclude the following:\n",
    "\n",
    "1. Springfield and Shelbyville users listen to similar music. The five most popular genres are the same, only rock and electronica have swapped positions.\n",
    "\n",
    "2. In Springfield the number of missing values turned out to be so high that the value “unknown” reached tenth. This means that missing values form a considerable part of the data, which could be the basis of the question about the reliability of our conclusions.\n",
    "\n",
    "For Friday afternoon, the situation is similar. The individual genres vary somewhat, but overall, the 15 most popular genres are similar in the two cities.\n",
    "\n",
    "Thus, the second hypothesis has been partially proven:\n",
    "\n",
    "- Users listen to similar music at the beginning and end of the week.\n",
    "- There is not a big difference between Springfield and Shelbyville. In both cities, pop is the most popular genre.\n",
    "\n",
    "However, the number of missing values makes this result somewhat questionable. In Springfield, there are so many that they affect our 15 most popular. If we weren't missing those values, things might look different."
   ]
  },
  {
   "cell_type": "markdown",
   "metadata": {
    "id": "jLmXgdanVyhP"
   },
   "source": [
    "[Volver a Contenidos](#back)"
   ]
  },
  {
   "cell_type": "markdown",
   "metadata": {
    "id": "JolODAqr_Zcu"
   },
   "source": [
    "#### Hypothesis 3: Gender preferences in Springfield and Shelbyville <a id='genre'></a>"
   ]
  },
  {
   "cell_type": "markdown",
   "metadata": {
    "id": "DlegSvaT_Zcu"
   },
   "source": [
    "Grouping the `spr_general` table by genre and find the number of played songs of each genre with the `count()` method. Then the results will be sorted in descending order and stored it in `spr_genres`."
   ]
  },
  {
   "cell_type": "code",
   "execution_count": 83,
   "metadata": {
    "id": "r19lIPke_Zcu"
   },
   "outputs": [],
   "source": [
    "y = spr_general.groupby('genre')['user_id']# in one line: group the spr_general table by the 'genre' column, \n",
    "x = y.count()# count the 'genre' values with count() in the grouping, \n",
    "spr_genres = x.sort_values(ascending = False) #resulting in descending order, and store in spr_genres"
   ]
  },
  {
   "cell_type": "code",
   "execution_count": 85,
   "metadata": {
    "id": "WhCSooF8_Zcv"
   },
   "outputs": [
    {
     "name": "stdout",
     "output_type": "stream",
     "text": [
      "genre\n",
      "pop            5892\n",
      "dance          4435\n",
      "rock           3965\n",
      "electronic     3786\n",
      "hiphop         2096\n",
      "classical      1616\n",
      "world          1432\n",
      "alternative    1379\n",
      "ruspop         1372\n",
      "rusrap         1161\n",
      "Name: user_id, dtype: int64\n"
     ]
    }
   ],
   "source": [
    "# Showing the first 10 rows of spr_genres\n",
    "print(spr_genres.head(10))"
   ]
  },
  {
   "cell_type": "markdown",
   "metadata": {
    "id": "cnPG2vnN_Zcv"
   },
   "source": [
    "\n",
    "The same will now be done for the Shelbyville data."
   ]
  },
  {
   "cell_type": "code",
   "execution_count": 86,
   "metadata": {
    "id": "gluLIpE7_Zcv"
   },
   "outputs": [],
   "source": [
    "\n",
    "y = shel_general.groupby('genre')['user_id']# in one line: group the shel_general table by 'genre' column, \n",
    "x = y.count()# count the 'genre' values with count() in the grouping, \n",
    "shel_genres = x.sort_values(ascending = False)# sort the resulting Series in descending order and store in shel_genres"
   ]
  },
  {
   "cell_type": "code",
   "execution_count": 87,
   "metadata": {
    "id": "uaGJHjVU_Zcv"
   },
   "outputs": [
    {
     "name": "stdout",
     "output_type": "stream",
     "text": [
      "genre\n",
      "pop            2431\n",
      "dance          1932\n",
      "rock           1879\n",
      "electronic     1736\n",
      "hiphop          960\n",
      "alternative     649\n",
      "classical       646\n",
      "rusrap          564\n",
      "ruspop          538\n",
      "world           515\n",
      "Name: user_id, dtype: int64\n"
     ]
    }
   ],
   "source": [
    "# Showing the first 10 rows of shel_genres\n",
    "print(shel_genres.head(10))"
   ]
  },
  {
   "cell_type": "markdown",
   "metadata": {
    "id": "nVhnJEm__Zcv"
   },
   "source": [
    "**Conclusion**\n",
    "\n",
    "\n",
    "The hypothesis has been partially proven:\n",
    "\n",
    "Pop music is the most popular genre in Springfield, as expected.\n",
    "However, pop music has turned out to be just as popular in Springfield as in Shelbyville, and rap was not in the top 5 in either city."
   ]
  },
  {
   "cell_type": "markdown",
   "metadata": {
    "id": "Byr0RfpPVz14"
   },
   "source": [
    "[Volver a Contenidos](#back)"
   ]
  },
  {
   "cell_type": "markdown",
   "metadata": {
    "id": "ykKQ0N65_Zcv"
   },
   "source": [
    "# Final Conclusions of this Project <a id='end'></a>"
   ]
  },
  {
   "cell_type": "markdown",
   "metadata": {
    "id": "tjUwbHb3_Zcv"
   },
   "source": [
    "We have tested the following three hypotheses:\n",
    "\n",
    "Method 1: Chi-square test and z-test test:\n",
    "\n",
    "1. There is a statistically significant difference in user activity across days and cities, and it cannot be concluded that the listening activity for users is independent acroos days and cities are the same. \n",
    "\n",
    "2. We cannot conclude that genre preferences are the same in Springfield and Shelbyville during Monday mornings and Friday nights.\n",
    "\n",
    "3. For Pop listeners there is a statistically significant difference in the proportion of pop listeners, with Springfield showing a higher proportion than Shelbyville. For Rap listeners test there is a statistically significant difference in the proportion of rap listeners, with Shelbyville showing a higher proportion than Springfield.\n",
    "\n",
    "\n",
    "Method 2: using basic analysis\n",
    "\n",
    "1. User activity differs depending on the day of the week and the different cities.\n",
    "2. On Monday mornings, Springfield and Shelbyville residents listen to different genres. The same is true for Friday nights.\n",
    "3. Springfield and Shelbyville listeners have different preferences. In both cities, Springfield and Shelbyville, pop is preferred.\n",
    "\n",
    "After analysing the data, we conclude:\n",
    "\n",
    "1. User activity in Springfield and Shelbyville depends on the day of the week although the cities vary in different ways.\n",
    "\n",
    "The first hypothesis is fully accepted.\n",
    "\n",
    "2. Music preferences do not vary significantly over the course of the week in Springfield and Shelbyville. We can observe small differences in the order on Mondays, but:\n",
    "- In Springfield and Shelbyville people listen most to pop music.\n",
    "\n",
    "Thus we cannot accept this hypothesis. We should also note that the result might have been different if it were not for the missing values.\n",
    "\n",
    "3. It turns out that the musical preferences of Springfield and Shelbyville users are quite similar.\n",
    "\n",
    "The third hypothesis is rejected. If there is any difference in preferences it cannot be seen in the data."
   ]
  },
  {
   "cell_type": "markdown",
   "metadata": {
    "id": "Ju4AHDSgV1FE"
   },
   "source": [
    "[Back to Content](#back)"
   ]
  },
  {
   "cell_type": "code",
   "execution_count": null,
   "metadata": {},
   "outputs": [],
   "source": []
  }
 ],
 "metadata": {
  "colab": {
   "collapsed_sections": [
    "E0vqbgi9ay0H",
    "VUC88oWjTJw2",
    "atZAxtq4_Zcu"
   ],
   "provenance": []
  },
  "kernelspec": {
   "display_name": "Python 3 (ipykernel)",
   "language": "python",
   "name": "python3"
  },
  "language_info": {
   "codemirror_mode": {
    "name": "ipython",
    "version": 3
   },
   "file_extension": ".py",
   "mimetype": "text/x-python",
   "name": "python",
   "nbconvert_exporter": "python",
   "pygments_lexer": "ipython3",
   "version": "3.9.22"
  },
  "toc": {
   "base_numbering": 1,
   "nav_menu": {},
   "number_sections": true,
   "sideBar": true,
   "skip_h1_title": true,
   "title_cell": "Table of Contents",
   "title_sidebar": "Contents",
   "toc_cell": false,
   "toc_position": {},
   "toc_section_display": true,
   "toc_window_display": false
  }
 },
 "nbformat": 4,
 "nbformat_minor": 4
}
